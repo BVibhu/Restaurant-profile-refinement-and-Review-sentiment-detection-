{
 "cells": [
  {
   "cell_type": "markdown",
   "id": "b742a377",
   "metadata": {},
   "source": [
    "# Exploration"
   ]
  },
  {
   "cell_type": "code",
   "execution_count": 137,
   "id": "5e94778a",
   "metadata": {},
   "outputs": [],
   "source": [
    "# Import libraries\n",
    "import pandas as pd\n",
    "import numpy as np\n",
    "import time"
   ]
  },
  {
   "cell_type": "code",
   "execution_count": 160,
   "id": "70b969ba",
   "metadata": {},
   "outputs": [],
   "source": [
    "# Make it so that all columns will be visible\n",
    "pd.set_option('display.max_columns', None)"
   ]
  },
  {
   "cell_type": "code",
   "execution_count": 6,
   "id": "ecf19ef6",
   "metadata": {},
   "outputs": [
    {
     "name": "stdout",
     "output_type": "stream",
     "text": [
      "Execution time: 1.17 minutes\n"
     ]
    }
   ],
   "source": [
    "# Import the data\n",
    "st = time.time() # Get start time\n",
    "\n",
    "df_business = pd.read_csv(r'C:\\Users\\jinho\\Downloads\\Mining\\Projects\\Team1\\data\\yelp_business.csv')\n",
    "df_attributes = pd.read_csv(r'C:\\Users\\jinho\\Downloads\\Mining\\Projects\\Team1\\data\\yelp_business_attributes.csv')\n",
    "df_hours = pd.read_csv(r'C:\\Users\\jinho\\Downloads\\Mining\\Projects\\Team1\\data\\yelp_business_hours.csv')\n",
    "df_checkin = pd.read_csv(r'C:\\Users\\jinho\\Downloads\\Mining\\Projects\\Team1\\data\\yelp_checkin.csv')\n",
    "df_review = pd.read_csv(r'C:\\Users\\jinho\\Downloads\\Mining\\Projects\\Team1\\data\\yelp_review.csv')\n",
    "df_tip = pd.read_csv(r'C:\\Users\\jinho\\Downloads\\Mining\\Projects\\Team1\\data\\yelp_tip.csv')\n",
    "df_user = pd.read_csv(r'C:\\Users\\jinho\\Downloads\\Mining\\Projects\\Team1\\data\\yelp_user.csv')\n",
    "\n",
    "et = time.time() # Get end time\n",
    "elapsed_time = et - st # Calculate execution time\n",
    "print('Execution time:', round(elapsed_time/60, 2), 'minutes')"
   ]
  },
  {
   "cell_type": "code",
   "execution_count": 138,
   "id": "36a06a37",
   "metadata": {},
   "outputs": [
    {
     "name": "stdout",
     "output_type": "stream",
     "text": [
      "Execution time: 1.26 minutes\n"
     ]
    }
   ],
   "source": [
    "# Replace all 'Na' with NULL\n",
    "st = time.time()\n",
    "\n",
    "df_business = df_business.replace('Na', np.nan, regex = True)\n",
    "df_attributes = df_attributes.replace('Na', np.nan, regex = True)\n",
    "df_hours = df_hours.replace('Na', np.nan, regex = True)\n",
    "df_checkin = df_checkin.replace('Na', np.nan, regex = True)\n",
    "df_review = df_review.replace('Na', np.nan, regex = True)\n",
    "df_tip = df_tip.replace('Na', np.nan, regex = True)\n",
    "df_user = df_user.replace('Na', np.nan, regex = True)\n",
    "\n",
    "et = time.time() # Get end time\n",
    "elapsed_time = et - st # Calculate execution time\n",
    "print('Execution time:', round(elapsed_time/60, 2), 'minutes')"
   ]
  },
  {
   "cell_type": "code",
   "execution_count": 140,
   "id": "9e59423d",
   "metadata": {},
   "outputs": [
    {
     "name": "stdout",
     "output_type": "stream",
     "text": [
      "df_business : ['business_id', 'name', 'neighborhood', 'address', 'city', 'state', 'postal_code', 'latitude', 'longitude', 'stars', 'review_count', 'is_open', 'categories']\n",
      "\n",
      "\n",
      "df_attributes : ['business_id', 'AcceptsInsurance', 'ByAppointmentOnly', 'BusinessAcceptsCreditCards', 'BusinessParking_garage', 'BusinessParking_street', 'BusinessParking_validated', 'BusinessParking_lot', 'BusinessParking_valet', 'HairSpecializesIn_coloring', 'HairSpecializesIn_africanamerican', 'HairSpecializesIn_curly', 'HairSpecializesIn_perms', 'HairSpecializesIn_kids', 'HairSpecializesIn_extensions', 'HairSpecializesIn_asian', 'HairSpecializesIn_straightperms', 'RestaurantsPriceRange2', 'GoodForKids', 'WheelchairAccessible', 'BikeParking', 'Alcohol', 'HasTV', 'NoiseLevel', 'RestaurantsAttire', 'Music_dj', 'Music_background_music', 'Music_no_music', 'Music_karaoke', 'Music_live', 'Music_video', 'Music_jukebox', 'Ambience_romantic', 'Ambience_intimate', 'Ambience_classy', 'Ambience_hipster', 'Ambience_divey', 'Ambience_touristy', 'Ambience_trendy', 'Ambience_upscale', 'Ambience_casual', 'RestaurantsGoodForGroups', 'Caters', 'WiFi', 'RestaurantsReservations', 'RestaurantsTakeOut', 'HappyHour', 'GoodForDancing', 'RestaurantsTableService', 'OutdoorSeating', 'RestaurantsDelivery', 'BestNights_monday', 'BestNights_tuesday', 'BestNights_friday', 'BestNights_wednesday', 'BestNights_thursday', 'BestNights_sunday', 'BestNights_saturday', 'GoodForMeal_dessert', 'GoodForMeal_latenight', 'GoodForMeal_lunch', 'GoodForMeal_dinner', 'GoodForMeal_breakfast', 'GoodForMeal_brunch', 'CoatCheck', 'Smoking', 'DriveThru', 'DogsAllowed', 'BusinessAcceptsBitcoin', 'Open24Hours', 'BYOBCorkage', 'BYOB', 'Corkage', 'DietaryRestrictions_dairy-free', 'DietaryRestrictions_gluten-free', 'DietaryRestrictions_vegan', 'DietaryRestrictions_kosher', 'DietaryRestrictions_halal', 'DietaryRestrictions_soy-free', 'DietaryRestrictions_vegetarian', 'AgesAllowed', 'RestaurantsCounterService']\n",
      "\n",
      "\n",
      "df_hours : ['business_id', 'monday', 'tuesday', 'wednesday', 'thursday', 'friday', 'saturday', 'sunday']\n",
      "\n",
      "\n",
      "df_checkin : ['business_id', 'weekday', 'hour', 'checkins']\n",
      "\n",
      "\n",
      "df_review : ['review_id', 'user_id', 'business_id', 'stars', 'date', 'text', 'useful', 'funny', 'cool']\n",
      "\n",
      "\n",
      "df_tip : ['text', 'date', 'likes', 'business_id', 'user_id']\n",
      "\n",
      "\n",
      "df_user : ['user_id', 'name', 'review_count', 'yelping_since', 'friends', 'useful', 'funny', 'cool', 'fans', 'elite', 'average_stars', 'compliment_hot', 'compliment_more', 'compliment_profile', 'compliment_cute', 'compliment_list', 'compliment_note', 'compliment_plain', 'compliment_cool', 'compliment_funny', 'compliment_writer', 'compliment_photos']\n"
     ]
    }
   ],
   "source": [
    "# Get column names\n",
    "tables = [df_business, df_attributes, df_hours, df_checkin, df_review, df_tip, df_user]\n",
    "table_names = ['df_business', 'df_attributes', 'df_hours', 'df_checkin', 'df_review',\n",
    "               'df_tip', 'df_user']\n",
    "\n",
    "for i in range(len(tables)):\n",
    "    print(table_names[i], ':', list(tables[i].columns))\n",
    "    if i != len(tables) - 1:\n",
    "        print('\\n')"
   ]
  },
  {
   "cell_type": "code",
   "execution_count": 141,
   "id": "537d148c",
   "metadata": {},
   "outputs": [],
   "source": [
    "# Get the number of stars (our target variable) of each business\n",
    "df_rating = df_business[['business_id', 'stars', 'categories']]\n",
    "# Combine the above with the attributes\n",
    "df1 = pd.merge(df_rating, df_attributes, on = 'business_id')"
   ]
  },
  {
   "cell_type": "code",
   "execution_count": 152,
   "id": "0ecaaca2",
   "metadata": {},
   "outputs": [],
   "source": [
    "# Remove all the rows where there are no business_id\n",
    "df_business = df_business[df_business['business_id'].notna()]\n",
    "df_attributes = df_attributes[df_attributes['business_id'].notna()]\n",
    "df_hours = df_hours[df_hours['business_id'].notna()]\n",
    "df_checkin = df_checkin[df_checkin['business_id'].notna()]\n",
    "df_review = df_review[df_review['business_id'].notna()]\n",
    "df_tip = df_tip[df_tip['business_id'].notna()]"
   ]
  },
  {
   "cell_type": "code",
   "execution_count": 153,
   "id": "0e7bf90b",
   "metadata": {},
   "outputs": [
    {
     "data": {
      "text/plain": [
       "\"\\ndf2 = df1[df1['categories'].str.contains('Na|Notaries|Watch Repair|Furniture Reupholstery|T-Shirt Printing|Shipping Centers|Recycling Center|Junk Removal|Electronics Repair|Donation Center|Couriers & Delivery Services|Non-Profit|Funeral Services|Child Care|Printing Services|IT Services & Computer Repair|Shoe Repair|Carpet Cleaning|Active Life|Appliances & Repair|Event Planning & Services|Golf|Local Flavor|Libraries|Nightlife|Laundry Services|Sewing & Alterations|Self Storage|Pest Control|Arts & Entertainment|Parks|Home Services|Shopping|Restaurants|Food|Beauty|Automotive|Hotels|Apartments|Health & Medical|Drugstores') == False]\\ndf2['categories'].value_counts()\\n\""
      ]
     },
     "execution_count": 153,
     "metadata": {},
     "output_type": "execute_result"
    }
   ],
   "source": [
    "# The following code can be used to explore what categories there are\n",
    "'''\n",
    "df2 = df1[df1['categories'].str.contains('Na|Notaries|Watch Repair|Furniture Reupholstery|T-Shirt Printing|Shipping Centers|Recycling Center|Junk Removal|Electronics Repair|Donation Center|Couriers & Delivery Services|Non-Profit|Funeral Services|Child Care|Printing Services|IT Services & Computer Repair|Shoe Repair|Carpet Cleaning|Active Life|Appliances & Repair|Event Planning & Services|Golf|Local Flavor|Libraries|Nightlife|Laundry Services|Sewing & Alterations|Self Storage|Pest Control|Arts & Entertainment|Parks|Home Services|Shopping|Restaurants|Food|Beauty|Automotive|Hotels|Apartments|Health & Medical|Drugstores') == False]\n",
    "df2['categories'].value_counts()\n",
    "'''"
   ]
  },
  {
   "cell_type": "code",
   "execution_count": 154,
   "id": "c3f23924",
   "metadata": {},
   "outputs": [],
   "source": [
    "# Break down attributes based on category\n",
    "df_restaurants = df1[df1['categories'].str.contains('Restaurants|Food') == True]\n",
    "df_beauty = df1[df1['categories'].str.contains('Beauty') == True]\n",
    "df_auto = df1[df1['categories'].str.contains('Automotive') == True]\n",
    "df_hotels = df1[df1['categories'].str.contains('Hotels') == True]\n",
    "df_apartments = df1[df1['categories'].str.contains('Apartments') == True]\n",
    "df_mec = df1[df1['categories'].str.contains('Health & Medical|Drugstores') == True]\n",
    "df_nightlife = df1[df1['categories'].str.contains('Nightlife|Bars|Dance Clubs') == True]\n",
    "df_home_services = df1[df1['categories'].str.contains('Home Services|Pest Control|Appliances & Repair|Carpet Cleaning|Furniture Reupholstery') == True]\n",
    "df_shopping = df1[df1['categories'].str.contains('Shopping|Watch Repair') == True]\n",
    "df_activelife =  df1[df1['categories'].str.contains('Active Life|Parks|Golf') == True]\n",
    "df_ent = df1[df1['categories'].str.contains('Arts & Entertainment') == True]\n",
    "df_storage = df1[df1['categories'].str.contains('Self Storage') == True]\n",
    "df_laundry = df1[df1['categories'].str.contains('Laundry Services|Sewing & Alterations|Shoe Repair') == True]\n",
    "df_library = df1[df1['categories'].str.contains('Libraries') == True]\n",
    "df_event = df1[df1['categories'].str.contains('Event Planning & Service') == True]\n",
    "df_electronics = df1[df1['categories'].str.contains('IT Services & Computer Repair|Electronics Repair') == True]\n",
    "df_childcare = df1[df1['categories'].str.contains('Child Care') == True]\n",
    "df_funeral = df1[df1['categories'].str.contains('Funeral Services') == True]\n",
    "df_nonprofit = df1[df1['categories'].str.contains('Non-Profit|Donation Center') == True]\n",
    "df_junk = df1[df1['categories'].str.contains('Junk Removal|Recycling Center') == True]\n",
    "df_printing = df1[df1['categories'].str.contains('Notaries|Printing Services|T-Shirt Printing|Couriers & Delivery Services|Shipping Centers') == True]"
   ]
  },
  {
   "cell_type": "code",
   "execution_count": 130,
   "id": "a48b278e",
   "metadata": {},
   "outputs": [
    {
     "data": {
      "text/plain": [
       "['AcceptsInsurance',\n",
       " 'ByAppointmentOnly',\n",
       " 'BusinessAcceptsCreditCards',\n",
       " 'BusinessParking_garage',\n",
       " 'BusinessParking_street',\n",
       " 'BusinessParking_validated',\n",
       " 'BusinessParking_lot',\n",
       " 'BusinessParking_valet',\n",
       " 'HairSpecializesIn_coloring',\n",
       " 'HairSpecializesIn_africanamerican',\n",
       " 'HairSpecializesIn_curly',\n",
       " 'HairSpecializesIn_perms',\n",
       " 'HairSpecializesIn_kids',\n",
       " 'HairSpecializesIn_extensions',\n",
       " 'HairSpecializesIn_asian',\n",
       " 'HairSpecializesIn_straightperms',\n",
       " 'RestaurantsPriceRange2',\n",
       " 'GoodForKids',\n",
       " 'WheelchairAccessible',\n",
       " 'BikeParking',\n",
       " 'Alcohol',\n",
       " 'HasTV',\n",
       " 'NoiseLevel',\n",
       " 'RestaurantsAttire',\n",
       " 'Music_dj',\n",
       " 'Music_background_music',\n",
       " 'Music_no_music',\n",
       " 'Music_karaoke',\n",
       " 'Music_live',\n",
       " 'Music_video',\n",
       " 'Music_jukebox',\n",
       " 'Ambience_romantic',\n",
       " 'Ambience_intimate',\n",
       " 'Ambience_classy',\n",
       " 'Ambience_hipster',\n",
       " 'Ambience_divey',\n",
       " 'Ambience_touristy',\n",
       " 'Ambience_trendy',\n",
       " 'Ambience_upscale',\n",
       " 'Ambience_casual',\n",
       " 'RestaurantsGoodForGroups',\n",
       " 'Caters',\n",
       " 'WiFi',\n",
       " 'RestaurantsReservations',\n",
       " 'RestaurantsTakeOut',\n",
       " 'HappyHour',\n",
       " 'GoodForDancing',\n",
       " 'RestaurantsTableService',\n",
       " 'OutdoorSeating',\n",
       " 'RestaurantsDelivery',\n",
       " 'BestNights_monday',\n",
       " 'BestNights_tuesday',\n",
       " 'BestNights_friday',\n",
       " 'BestNights_wednesday',\n",
       " 'BestNights_thursday',\n",
       " 'BestNights_sunday',\n",
       " 'BestNights_saturday',\n",
       " 'GoodForMeal_dessert',\n",
       " 'GoodForMeal_latenight',\n",
       " 'GoodForMeal_lunch',\n",
       " 'GoodForMeal_dinner',\n",
       " 'GoodForMeal_breakfast',\n",
       " 'GoodForMeal_brunch',\n",
       " 'CoatCheck',\n",
       " 'Smoking',\n",
       " 'DriveThru',\n",
       " 'DogsAllowed',\n",
       " 'BusinessAcceptsBitcoin',\n",
       " 'Open24Hours',\n",
       " 'BYOBCorkage',\n",
       " 'BYOB',\n",
       " 'Corkage',\n",
       " 'DietaryRestrictions_dairy-free',\n",
       " 'DietaryRestrictions_gluten-free',\n",
       " 'DietaryRestrictions_vegan',\n",
       " 'DietaryRestrictions_kosher',\n",
       " 'DietaryRestrictions_halal',\n",
       " 'DietaryRestrictions_soy-free',\n",
       " 'DietaryRestrictions_vegetarian',\n",
       " 'AgesAllowed',\n",
       " 'RestaurantsCounterService']"
      ]
     },
     "execution_count": 130,
     "metadata": {},
     "output_type": "execute_result"
    }
   ],
   "source": [
    "my_list = list(df_attributes.columns)\n",
    "remove = ['business_id']\n",
    "\n",
    "for col in my_list:\n",
    "    if col in remove:\n",
    "        my_list.remove(col)\n",
    "\n",
    "my_list"
   ]
  },
  {
   "cell_type": "code",
   "execution_count": null,
   "id": "21c0b3b5",
   "metadata": {},
   "outputs": [],
   "source": []
  }
 ],
 "metadata": {
  "kernelspec": {
   "display_name": "Python 3 (ipykernel)",
   "language": "python",
   "name": "python3"
  },
  "language_info": {
   "codemirror_mode": {
    "name": "ipython",
    "version": 3
   },
   "file_extension": ".py",
   "mimetype": "text/x-python",
   "name": "python",
   "nbconvert_exporter": "python",
   "pygments_lexer": "ipython3",
   "version": "3.9.12"
  }
 },
 "nbformat": 4,
 "nbformat_minor": 5
}
