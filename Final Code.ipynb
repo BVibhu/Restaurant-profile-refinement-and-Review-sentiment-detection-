{
 "cells": [
  {
   "cell_type": "markdown",
   "id": "474fdb75",
   "metadata": {},
   "source": [
    "# Group 3 Term Project 1\n",
    "- Vibhu Bhardwaj (261113187)\n",
    "- Yihui Chen (261103068)\n",
    "- Hong Fei Jin (260927239)\n",
    "- Utkarsh Pal (261121772)\n",
    "- Haoying Xu (261109413)"
   ]
  },
  {
   "cell_type": "markdown",
   "id": "8c3573a9",
   "metadata": {},
   "source": [
    "## Import the data"
   ]
  },
  {
   "cell_type": "code",
   "execution_count": 11,
   "id": "78bb14be",
   "metadata": {},
   "outputs": [],
   "source": [
    "# Import libraries\n",
    "import pandas as pd\n",
    "import numpy as np\n",
    "import time"
   ]
  },
  {
   "cell_type": "code",
   "execution_count": 12,
   "id": "6231041e",
   "metadata": {},
   "outputs": [],
   "source": [
    "# Make it so that all columns will be visible\n",
    "pd.set_option('display.max_columns', None)"
   ]
  },
  {
   "cell_type": "code",
   "execution_count": 13,
   "id": "ef6e4e96",
   "metadata": {},
   "outputs": [
    {
     "name": "stdout",
     "output_type": "stream",
     "text": [
      "Execution time: 1.15 minutes\n"
     ]
    }
   ],
   "source": [
    "# Import the data\n",
    "st = time.time() # Get start time\n",
    "\n",
    "df_business = pd.read_csv(r'C:\\Users\\jinho\\Downloads\\Mining\\Projects\\Team1\\data\\yelp_business.csv')\n",
    "df_attributes = pd.read_csv(r'C:\\Users\\jinho\\Downloads\\Mining\\Projects\\Team1\\data\\yelp_business_attributes.csv')\n",
    "df_hours = pd.read_csv(r'C:\\Users\\jinho\\Downloads\\Mining\\Projects\\Team1\\data\\yelp_business_hours.csv')\n",
    "df_checkin = pd.read_csv(r'C:\\Users\\jinho\\Downloads\\Mining\\Projects\\Team1\\data\\yelp_checkin.csv')\n",
    "df_review = pd.read_csv(r'C:\\Users\\jinho\\Downloads\\Mining\\Projects\\Team1\\data\\yelp_review.csv')\n",
    "df_tip = pd.read_csv(r'C:\\Users\\jinho\\Downloads\\Mining\\Projects\\Team1\\data\\yelp_tip.csv')\n",
    "df_user = pd.read_csv(r'C:\\Users\\jinho\\Downloads\\Mining\\Projects\\Team1\\data\\yelp_user.csv')\n",
    "\n",
    "et = time.time() # Get end time\n",
    "elapsed_time = et - st # Calculate execution time\n",
    "print('Execution time:', round(elapsed_time/60, 2), 'minutes')"
   ]
  },
  {
   "cell_type": "markdown",
   "id": "c1b1a509",
   "metadata": {},
   "source": [
    "## Data pre-processing"
   ]
  },
  {
   "cell_type": "code",
   "execution_count": 14,
   "id": "12bf28cf",
   "metadata": {},
   "outputs": [],
   "source": [
    "# Remove the all rows where there are no business_id\n",
    "df_business = df_business[df_business['business_id'].notna()]\n",
    "df_attributes = df_attributes[df_attributes['business_id'].notna()]\n",
    "df_hours = df_hours[df_hours['business_id'].notna()]\n",
    "df_checkin = df_checkin[df_checkin['business_id'].notna()]\n",
    "df_review = df_review[df_review['business_id'].notna()]\n",
    "df_tip = df_tip[df_tip['business_id'].notna()]\n",
    "\n",
    "# Replace all 'Na' and 'None' with NULL\n",
    "df_business = df_business.replace({'Na': np.nan}, regex = True)\n",
    "df_attributes = df_attributes.replace({'Na': np.nan}, regex = True)"
   ]
  },
  {
   "cell_type": "code",
   "execution_count": 15,
   "id": "a907fd87",
   "metadata": {},
   "outputs": [],
   "source": [
    "# Get the number of stars (our target variable) of each business\n",
    "df_rating = df_business[['business_id', 'stars', 'categories']]\n",
    "\n",
    "# Get businesses that are restaurants\n",
    "df_restaurants = df_rating[df_rating['categories'].str.contains('Restaurants|Food') == True]"
   ]
  },
  {
   "cell_type": "code",
   "execution_count": 16,
   "id": "c1d0e551",
   "metadata": {},
   "outputs": [],
   "source": [
    "# Breaking down df_attributes into smaller DataFrame concerning restaurants\n",
    "df_dietary = df_attributes[['business_id', 'DietaryRestrictions_dairy-free', 'DietaryRestrictions_gluten-free',\n",
    "                            'DietaryRestrictions_vegan', 'DietaryRestrictions_kosher',\n",
    "                            'DietaryRestrictions_halal', 'DietaryRestrictions_soy-free',\n",
    "                            'DietaryRestrictions_vegetarian']]\n",
    "df_ambience = df_attributes[['business_id', 'Ambience_romantic', 'Ambience_intimate', 'Ambience_classy',\n",
    "                            'Ambience_hipster', 'Ambience_divey', 'Ambience_touristy',\n",
    "                            'Ambience_trendy', 'Ambience_upscale', 'Ambience_casual']]\n",
    "df_parking = df_attributes[['business_id', 'BusinessParking_garage', 'BusinessParking_street',\n",
    "                            'BusinessParking_validated', 'BusinessParking_lot',\n",
    "                            'BusinessParking_valet', 'BikeParking']]\n",
    "df_good = df_attributes[['business_id', 'GoodForMeal_dessert', 'GoodForMeal_latenight', 'GoodForMeal_lunch',\n",
    "                         'GoodForMeal_dinner', 'GoodForMeal_breakfast', 'GoodForMeal_brunch']]\n",
    "df_other = df_attributes[['business_id', 'ByAppointmentOnly', 'BusinessAcceptsCreditCards', 'RestaurantsPriceRange2',\n",
    "                          'GoodForKids', 'WheelchairAccessible', 'Alcohol',\n",
    "                          'HasTV', 'NoiseLevel', 'RestaurantsAttire',\n",
    "                          'RestaurantsGoodForGroups', 'WiFi', 'RestaurantsReservations',\n",
    "                          'RestaurantsTakeOut', 'RestaurantsTableService', 'OutdoorSeating',\n",
    "                          'RestaurantsDelivery', 'Smoking', 'DriveThru',\n",
    "                          'DogsAllowed', 'RestaurantsCounterService']]"
   ]
  },
  {
   "cell_type": "markdown",
   "id": "8724b273",
   "metadata": {},
   "source": [
    "## Recursive Feature Elimination on df_other"
   ]
  },
  {
   "cell_type": "code",
   "execution_count": 18,
   "id": "60f6a0e9",
   "metadata": {},
   "outputs": [],
   "source": [
    "feat_other = pd.merge(df_restaurants, df_other, on = 'business_id', how = 'inner')\n",
    "pd.set_option('display.max_columns', None)"
   ]
  },
  {
   "cell_type": "markdown",
   "id": "b8e6b2ba",
   "metadata": {},
   "source": [
    "We can do some further cleaning of the dataset:\n",
    "- The entire RestaurantsPriceRange2 column is null so we can drop it\n",
    "- We should also drop HasTV because the categories are \"full_bar\" and \"beer_and_wine\"\n",
    "- We should drop RestaurantsGoodForGroups because the entire column is either 'True' or NULL\n",
    "- Finally there is only one row in RestaurantsCounterService that is NOT NULL"
   ]
  },
  {
   "cell_type": "code",
   "execution_count": 19,
   "id": "408b2811",
   "metadata": {},
   "outputs": [],
   "source": [
    "feat_other = feat_other.drop(columns = ['RestaurantsPriceRange2', 'HasTV', 'RestaurantsGoodForGroups', 'RestaurantsCounterService', 'RestaurantsAttire', 'RestaurantsReservations'])"
   ]
  },
  {
   "cell_type": "code",
   "execution_count": 20,
   "id": "215b418a",
   "metadata": {},
   "outputs": [],
   "source": [
    "# Dummify remaining columns\n",
    "feat_other = feat_other.replace({np.NaN : 0, 'False' : 0, 'True' : 1}, regex = True) \n",
    "feat_other['DriveThru'] = feat_other['DriveThru'].replace({np.NaN : 0, 'outdoor' : 1, 'yes' : 1, 'no': 0}, regex = True)"
   ]
  },
  {
   "cell_type": "code",
   "execution_count": 21,
   "id": "0ccbaa7f",
   "metadata": {},
   "outputs": [
    {
     "data": {
      "text/plain": [
       "array([0, 1, 2, 3, 4, 5, 6, 7, 8], dtype=int64)"
      ]
     },
     "execution_count": 21,
     "metadata": {},
     "output_type": "execute_result"
    }
   ],
   "source": [
    "from sklearn import preprocessing\n",
    "from sklearn import utils\n",
    "\n",
    "X = feat_other.iloc[:, 4:]\n",
    "y = feat_other['stars']\n",
    "\n",
    "lab = preprocessing.LabelEncoder()\n",
    "y_transformed = lab.fit_transform(y)\n",
    "\n",
    "np.unique(y_transformed)"
   ]
  },
  {
   "cell_type": "code",
   "execution_count": 22,
   "id": "690d0609",
   "metadata": {},
   "outputs": [],
   "source": [
    "from sklearn.feature_selection import RFE\n",
    "from sklearn.linear_model import LogisticRegression\n",
    "\n",
    "lr = LogisticRegression(max_iter = 5000)\n",
    "rfe = RFE(lr, n_features_to_select = 1)\n",
    "model1 = rfe.fit(X,y_transformed)"
   ]
  },
  {
   "cell_type": "code",
   "execution_count": 23,
   "id": "8cfd24c5",
   "metadata": {},
   "outputs": [
    {
     "data": {
      "text/html": [
       "<div>\n",
       "<style scoped>\n",
       "    .dataframe tbody tr th:only-of-type {\n",
       "        vertical-align: middle;\n",
       "    }\n",
       "\n",
       "    .dataframe tbody tr th {\n",
       "        vertical-align: top;\n",
       "    }\n",
       "\n",
       "    .dataframe thead th {\n",
       "        text-align: right;\n",
       "    }\n",
       "</style>\n",
       "<table border=\"1\" class=\"dataframe\">\n",
       "  <thead>\n",
       "    <tr style=\"text-align: right;\">\n",
       "      <th></th>\n",
       "      <th>predictor</th>\n",
       "      <th>ranking</th>\n",
       "    </tr>\n",
       "  </thead>\n",
       "  <tbody>\n",
       "    <tr>\n",
       "      <th>12</th>\n",
       "      <td>DogsAllowed</td>\n",
       "      <td>1</td>\n",
       "    </tr>\n",
       "    <tr>\n",
       "      <th>5</th>\n",
       "      <td>WiFi</td>\n",
       "      <td>2</td>\n",
       "    </tr>\n",
       "    <tr>\n",
       "      <th>6</th>\n",
       "      <td>RestaurantsTakeOut</td>\n",
       "      <td>3</td>\n",
       "    </tr>\n",
       "    <tr>\n",
       "      <th>10</th>\n",
       "      <td>Smoking</td>\n",
       "      <td>4</td>\n",
       "    </tr>\n",
       "    <tr>\n",
       "      <th>4</th>\n",
       "      <td>NoiseLevel</td>\n",
       "      <td>5</td>\n",
       "    </tr>\n",
       "    <tr>\n",
       "      <th>9</th>\n",
       "      <td>RestaurantsDelivery</td>\n",
       "      <td>6</td>\n",
       "    </tr>\n",
       "    <tr>\n",
       "      <th>11</th>\n",
       "      <td>DriveThru</td>\n",
       "      <td>7</td>\n",
       "    </tr>\n",
       "    <tr>\n",
       "      <th>2</th>\n",
       "      <td>WheelchairAccessible</td>\n",
       "      <td>8</td>\n",
       "    </tr>\n",
       "    <tr>\n",
       "      <th>0</th>\n",
       "      <td>BusinessAcceptsCreditCards</td>\n",
       "      <td>9</td>\n",
       "    </tr>\n",
       "    <tr>\n",
       "      <th>8</th>\n",
       "      <td>OutdoorSeating</td>\n",
       "      <td>10</td>\n",
       "    </tr>\n",
       "    <tr>\n",
       "      <th>3</th>\n",
       "      <td>Alcohol</td>\n",
       "      <td>11</td>\n",
       "    </tr>\n",
       "    <tr>\n",
       "      <th>7</th>\n",
       "      <td>RestaurantsTableService</td>\n",
       "      <td>12</td>\n",
       "    </tr>\n",
       "    <tr>\n",
       "      <th>1</th>\n",
       "      <td>GoodForKids</td>\n",
       "      <td>13</td>\n",
       "    </tr>\n",
       "  </tbody>\n",
       "</table>\n",
       "</div>"
      ],
      "text/plain": [
       "                     predictor  ranking\n",
       "12                 DogsAllowed        1\n",
       "5                         WiFi        2\n",
       "6           RestaurantsTakeOut        3\n",
       "10                     Smoking        4\n",
       "4                   NoiseLevel        5\n",
       "9          RestaurantsDelivery        6\n",
       "11                   DriveThru        7\n",
       "2         WheelchairAccessible        8\n",
       "0   BusinessAcceptsCreditCards        9\n",
       "8               OutdoorSeating       10\n",
       "3                      Alcohol       11\n",
       "7      RestaurantsTableService       12\n",
       "1                  GoodForKids       13"
      ]
     },
     "execution_count": 23,
     "metadata": {},
     "output_type": "execute_result"
    }
   ],
   "source": [
    "pd.DataFrame(list(zip(X.columns,model1.ranking_)), columns = ['predictor','ranking']).sort_values(by = ['ranking'])"
   ]
  },
  {
   "cell_type": "markdown",
   "id": "95b0e35c",
   "metadata": {},
   "source": [
    "From here we can see that DogsAllowed, WiFi, RestaurantsTakeOut are good predictors. We can thus take these results to build our Linear Regression model and get more detailed results concerning accuracy and such. We can also repeat this for the other DataFrames created like Dietary, Ambience, Parking to get more detailed feedback and improve our linear regression model."
   ]
  },
  {
   "cell_type": "markdown",
   "id": "8b12345e",
   "metadata": {},
   "source": [
    "## Random Forest Classifier"
   ]
  },
  {
   "cell_type": "markdown",
   "id": "6ebe6ca1",
   "metadata": {},
   "source": [
    "We can start again as to not have the effects of the section above to effect our results here"
   ]
  },
  {
   "cell_type": "code",
   "execution_count": 27,
   "id": "f115404a",
   "metadata": {},
   "outputs": [],
   "source": [
    "# Import libraries\n",
    "import pandas as pd\n",
    "import numpy as np\n",
    "\n",
    "# Import the data\n",
    "business = pd.read_csv(r'C:\\Users\\jinho\\Downloads\\Mining\\Projects\\Team1\\data\\yelp_business.csv')\n",
    "business_attributes = pd.read_csv(r'C:\\Users\\jinho\\Downloads\\Mining\\Projects\\Team1\\data\\yelp_business_attributes.csv')"
   ]
  },
  {
   "cell_type": "code",
   "execution_count": 29,
   "id": "0c6bc8d0",
   "metadata": {},
   "outputs": [],
   "source": [
    "# Get the number of stars (our target variable) of each business\n",
    "df_rating = business[['business_id', 'stars', 'categories']]\n",
    "\n",
    "# Take only the restaurants\n",
    "restaurant = df_rating[df_rating['categories'].str.contains(\"restaurant|food\")==True]\n",
    "restaurant_2 = pd.merge(restaurant,business_attributes,on='business_id')"
   ]
  },
  {
   "cell_type": "code",
   "execution_count": 30,
   "id": "0aa3a107",
   "metadata": {},
   "outputs": [],
   "source": [
    "# Dumify variables\n",
    "restaurant_2=restaurant_2.replace(to_replace={'Na':0,'True':1,'False':0,'beer_and_wine':1,\n",
    "                                              'full_bar':1,'no':0,'none':0,'outdoor':1,'yes':1})"
   ]
  },
  {
   "cell_type": "code",
   "execution_count": 31,
   "id": "3ac149d4",
   "metadata": {},
   "outputs": [],
   "source": [
    "# Transform target into categorical data\n",
    "star_df=restaurant_2['stars']\n",
    "star_label = []\n",
    "for star in star_df: #assign the percentile category to the new column\n",
    "    if star <= 1:\n",
    "        star_label.append('Very Poor')\n",
    "    elif star > 1 and star <= 2:\n",
    "        star_label.append('Poor')\n",
    "    elif star > 2 and star <= 3:\n",
    "        star_label.append('Average')\n",
    "    elif star > 3 and star <= 4:\n",
    "        star_label.append('Good')\n",
    "    elif star > 4:\n",
    "        star_label.append('Very Good')"
   ]
  },
  {
   "cell_type": "code",
   "execution_count": 32,
   "id": "a3123294",
   "metadata": {},
   "outputs": [],
   "source": [
    "#combine the new column to the df\n",
    "restaurant_3 = pd.concat([restaurant_2, pd.DataFrame(star_label, columns=['star_label'])], axis=1)\n",
    "restaurant_3['stars']=restaurant_3['stars'].astype('category') #make sure identified as categorical\n",
    "\n",
    "#1. Parking related\n",
    "X1 = restaurant_3[['BusinessParking_garage','BusinessParking_street',\n",
    "                 'BusinessParking_lot','BusinessParking_valet','BusinessParking_validated','BikeParking']]\n",
    "\n",
    "#2. Meal attributes\n",
    "X2 = restaurant_3[['GoodForMeal_breakfast','GoodForMeal_brunch','GoodForMeal_lunch','GoodForMeal_dinner','GoodForMeal_dessert','GoodForMeal_latenight']]\n",
    "\n",
    "#3. Ambiance\n",
    "X3 = restaurant_3[['Ambience_romantic','Ambience_intimate','Ambience_classy','Ambience_hipster',\n",
    "                   'Ambience_divey','Ambience_touristy','Ambience_trendy','Ambience_upscale','Ambience_casual']]\n",
    "\n",
    "#4. Dietary Restrictions\n",
    "X4 = restaurant_3[['DietaryRestrictions_kosher','DietaryRestrictions_gluten-free','DietaryRestrictions_vegan']]\n",
    "\n",
    "#5. Other attrbutes\n",
    "X5 = restaurant_3[['DogsAllowed','WiFi','RestaurantsTakeOut','DriveThru','OutdoorSeating','BusinessAcceptsCreditCards','ByAppointmentOnly','RestaurantsTableService',\n",
    "                   'Smoking','NoiseLevel','RestaurantsDelivery','HasTV','WheelchairAccessible','GoodForKids','Alcohol']]\n",
    "\n",
    "y = restaurant_3['star_label']"
   ]
  },
  {
   "cell_type": "code",
   "execution_count": 33,
   "id": "14760590",
   "metadata": {},
   "outputs": [],
   "source": [
    "from sklearn.ensemble import RandomForestClassifier #random forest doing featyre selection\n",
    "rf1=RandomForestClassifier(random_state=(5)) "
   ]
  },
  {
   "cell_type": "code",
   "execution_count": 34,
   "id": "a89f5a7c",
   "metadata": {},
   "outputs": [
    {
     "data": {
      "text/html": [
       "<div>\n",
       "<style scoped>\n",
       "    .dataframe tbody tr th:only-of-type {\n",
       "        vertical-align: middle;\n",
       "    }\n",
       "\n",
       "    .dataframe tbody tr th {\n",
       "        vertical-align: top;\n",
       "    }\n",
       "\n",
       "    .dataframe thead th {\n",
       "        text-align: right;\n",
       "    }\n",
       "</style>\n",
       "<table border=\"1\" class=\"dataframe\">\n",
       "  <thead>\n",
       "    <tr style=\"text-align: right;\">\n",
       "      <th></th>\n",
       "      <th>predictor</th>\n",
       "      <th>feature importance</th>\n",
       "    </tr>\n",
       "  </thead>\n",
       "  <tbody>\n",
       "    <tr>\n",
       "      <th>5</th>\n",
       "      <td>BikeParking</td>\n",
       "      <td>0.222248</td>\n",
       "    </tr>\n",
       "    <tr>\n",
       "      <th>4</th>\n",
       "      <td>BusinessParking_validated</td>\n",
       "      <td>0.196237</td>\n",
       "    </tr>\n",
       "    <tr>\n",
       "      <th>1</th>\n",
       "      <td>BusinessParking_street</td>\n",
       "      <td>0.190517</td>\n",
       "    </tr>\n",
       "    <tr>\n",
       "      <th>3</th>\n",
       "      <td>BusinessParking_valet</td>\n",
       "      <td>0.171438</td>\n",
       "    </tr>\n",
       "    <tr>\n",
       "      <th>2</th>\n",
       "      <td>BusinessParking_lot</td>\n",
       "      <td>0.158058</td>\n",
       "    </tr>\n",
       "    <tr>\n",
       "      <th>0</th>\n",
       "      <td>BusinessParking_garage</td>\n",
       "      <td>0.061501</td>\n",
       "    </tr>\n",
       "  </tbody>\n",
       "</table>\n",
       "</div>"
      ],
      "text/plain": [
       "                   predictor  feature importance\n",
       "5                BikeParking            0.222248\n",
       "4  BusinessParking_validated            0.196237\n",
       "1     BusinessParking_street            0.190517\n",
       "3      BusinessParking_valet            0.171438\n",
       "2        BusinessParking_lot            0.158058\n",
       "0     BusinessParking_garage            0.061501"
      ]
     },
     "execution_count": 34,
     "metadata": {},
     "output_type": "execute_result"
    }
   ],
   "source": [
    "#1. Parking related\n",
    "model1=rf1.fit(X1,y)\n",
    "model1.feature_importances_\n",
    "pd.DataFrame(list(zip(X1.columns,model1.feature_importances_)), columns = ['predictor','feature importance']).sort_values(by='feature importance',ascending=False)"
   ]
  },
  {
   "cell_type": "code",
   "execution_count": 35,
   "id": "021764d0",
   "metadata": {},
   "outputs": [
    {
     "data": {
      "text/html": [
       "<div>\n",
       "<style scoped>\n",
       "    .dataframe tbody tr th:only-of-type {\n",
       "        vertical-align: middle;\n",
       "    }\n",
       "\n",
       "    .dataframe tbody tr th {\n",
       "        vertical-align: top;\n",
       "    }\n",
       "\n",
       "    .dataframe thead th {\n",
       "        text-align: right;\n",
       "    }\n",
       "</style>\n",
       "<table border=\"1\" class=\"dataframe\">\n",
       "  <thead>\n",
       "    <tr style=\"text-align: right;\">\n",
       "      <th></th>\n",
       "      <th>predictor</th>\n",
       "      <th>feature importance</th>\n",
       "    </tr>\n",
       "  </thead>\n",
       "  <tbody>\n",
       "    <tr>\n",
       "      <th>3</th>\n",
       "      <td>GoodForMeal_dinner</td>\n",
       "      <td>0.302619</td>\n",
       "    </tr>\n",
       "    <tr>\n",
       "      <th>0</th>\n",
       "      <td>GoodForMeal_breakfast</td>\n",
       "      <td>0.276815</td>\n",
       "    </tr>\n",
       "    <tr>\n",
       "      <th>4</th>\n",
       "      <td>GoodForMeal_dessert</td>\n",
       "      <td>0.151012</td>\n",
       "    </tr>\n",
       "    <tr>\n",
       "      <th>1</th>\n",
       "      <td>GoodForMeal_brunch</td>\n",
       "      <td>0.103325</td>\n",
       "    </tr>\n",
       "    <tr>\n",
       "      <th>5</th>\n",
       "      <td>GoodForMeal_latenight</td>\n",
       "      <td>0.098074</td>\n",
       "    </tr>\n",
       "    <tr>\n",
       "      <th>2</th>\n",
       "      <td>GoodForMeal_lunch</td>\n",
       "      <td>0.068155</td>\n",
       "    </tr>\n",
       "  </tbody>\n",
       "</table>\n",
       "</div>"
      ],
      "text/plain": [
       "               predictor  feature importance\n",
       "3     GoodForMeal_dinner            0.302619\n",
       "0  GoodForMeal_breakfast            0.276815\n",
       "4    GoodForMeal_dessert            0.151012\n",
       "1     GoodForMeal_brunch            0.103325\n",
       "5  GoodForMeal_latenight            0.098074\n",
       "2      GoodForMeal_lunch            0.068155"
      ]
     },
     "execution_count": 35,
     "metadata": {},
     "output_type": "execute_result"
    }
   ],
   "source": [
    "#2. Meal attributes\n",
    "rf2=RandomForestClassifier(random_state=(5)) \n",
    "model2=rf2.fit(X2,y)\n",
    "model2.feature_importances_\n",
    "pd.DataFrame(list(zip(X2.columns,model2.feature_importances_)), columns = ['predictor','feature importance']).sort_values(by='feature importance',ascending=False)"
   ]
  },
  {
   "cell_type": "code",
   "execution_count": 36,
   "id": "17683c00",
   "metadata": {},
   "outputs": [
    {
     "data": {
      "text/html": [
       "<div>\n",
       "<style scoped>\n",
       "    .dataframe tbody tr th:only-of-type {\n",
       "        vertical-align: middle;\n",
       "    }\n",
       "\n",
       "    .dataframe tbody tr th {\n",
       "        vertical-align: top;\n",
       "    }\n",
       "\n",
       "    .dataframe thead th {\n",
       "        text-align: right;\n",
       "    }\n",
       "</style>\n",
       "<table border=\"1\" class=\"dataframe\">\n",
       "  <thead>\n",
       "    <tr style=\"text-align: right;\">\n",
       "      <th></th>\n",
       "      <th>predictor</th>\n",
       "      <th>feature importance</th>\n",
       "    </tr>\n",
       "  </thead>\n",
       "  <tbody>\n",
       "    <tr>\n",
       "      <th>0</th>\n",
       "      <td>Ambience_romantic</td>\n",
       "      <td>0.0</td>\n",
       "    </tr>\n",
       "    <tr>\n",
       "      <th>1</th>\n",
       "      <td>Ambience_intimate</td>\n",
       "      <td>0.0</td>\n",
       "    </tr>\n",
       "    <tr>\n",
       "      <th>2</th>\n",
       "      <td>Ambience_classy</td>\n",
       "      <td>0.0</td>\n",
       "    </tr>\n",
       "    <tr>\n",
       "      <th>3</th>\n",
       "      <td>Ambience_hipster</td>\n",
       "      <td>0.0</td>\n",
       "    </tr>\n",
       "    <tr>\n",
       "      <th>4</th>\n",
       "      <td>Ambience_divey</td>\n",
       "      <td>0.0</td>\n",
       "    </tr>\n",
       "    <tr>\n",
       "      <th>5</th>\n",
       "      <td>Ambience_touristy</td>\n",
       "      <td>0.0</td>\n",
       "    </tr>\n",
       "    <tr>\n",
       "      <th>6</th>\n",
       "      <td>Ambience_trendy</td>\n",
       "      <td>0.0</td>\n",
       "    </tr>\n",
       "    <tr>\n",
       "      <th>7</th>\n",
       "      <td>Ambience_upscale</td>\n",
       "      <td>0.0</td>\n",
       "    </tr>\n",
       "    <tr>\n",
       "      <th>8</th>\n",
       "      <td>Ambience_casual</td>\n",
       "      <td>0.0</td>\n",
       "    </tr>\n",
       "  </tbody>\n",
       "</table>\n",
       "</div>"
      ],
      "text/plain": [
       "           predictor  feature importance\n",
       "0  Ambience_romantic                 0.0\n",
       "1  Ambience_intimate                 0.0\n",
       "2    Ambience_classy                 0.0\n",
       "3   Ambience_hipster                 0.0\n",
       "4     Ambience_divey                 0.0\n",
       "5  Ambience_touristy                 0.0\n",
       "6    Ambience_trendy                 0.0\n",
       "7   Ambience_upscale                 0.0\n",
       "8    Ambience_casual                 0.0"
      ]
     },
     "execution_count": 36,
     "metadata": {},
     "output_type": "execute_result"
    }
   ],
   "source": [
    "#3. Ambiance\n",
    "#all in 0, should avoid this analysis\n",
    "rf3=RandomForestClassifier(random_state=(5)) \n",
    "model3=rf3.fit(X3,y)\n",
    "model3.feature_importances_\n",
    "pd.DataFrame(list(zip(X3.columns,model3.feature_importances_)), columns = ['predictor','feature importance']).sort_values(by='feature importance',ascending=False)"
   ]
  },
  {
   "cell_type": "code",
   "execution_count": 37,
   "id": "aaef02bd",
   "metadata": {},
   "outputs": [
    {
     "data": {
      "text/html": [
       "<div>\n",
       "<style scoped>\n",
       "    .dataframe tbody tr th:only-of-type {\n",
       "        vertical-align: middle;\n",
       "    }\n",
       "\n",
       "    .dataframe tbody tr th {\n",
       "        vertical-align: top;\n",
       "    }\n",
       "\n",
       "    .dataframe thead th {\n",
       "        text-align: right;\n",
       "    }\n",
       "</style>\n",
       "<table border=\"1\" class=\"dataframe\">\n",
       "  <thead>\n",
       "    <tr style=\"text-align: right;\">\n",
       "      <th></th>\n",
       "      <th>predictor</th>\n",
       "      <th>feature importance</th>\n",
       "    </tr>\n",
       "  </thead>\n",
       "  <tbody>\n",
       "    <tr>\n",
       "      <th>0</th>\n",
       "      <td>DietaryRestrictions_kosher</td>\n",
       "      <td>0.0</td>\n",
       "    </tr>\n",
       "    <tr>\n",
       "      <th>1</th>\n",
       "      <td>DietaryRestrictions_gluten-free</td>\n",
       "      <td>0.0</td>\n",
       "    </tr>\n",
       "    <tr>\n",
       "      <th>2</th>\n",
       "      <td>DietaryRestrictions_vegan</td>\n",
       "      <td>0.0</td>\n",
       "    </tr>\n",
       "  </tbody>\n",
       "</table>\n",
       "</div>"
      ],
      "text/plain": [
       "                         predictor  feature importance\n",
       "0       DietaryRestrictions_kosher                 0.0\n",
       "1  DietaryRestrictions_gluten-free                 0.0\n",
       "2        DietaryRestrictions_vegan                 0.0"
      ]
     },
     "execution_count": 37,
     "metadata": {},
     "output_type": "execute_result"
    }
   ],
   "source": [
    "#4. Dietary Restrictions\n",
    "#all in 0, should avoid this analysis\n",
    "rf4=RandomForestClassifier(random_state=(5)) \n",
    "model4=rf4.fit(X3,y)\n",
    "model4.feature_importances_\n",
    "pd.DataFrame(list(zip(X4.columns,model4.feature_importances_)), columns = ['predictor','feature importance']).sort_values(by='feature importance',ascending=False)"
   ]
  },
  {
   "cell_type": "code",
   "execution_count": 38,
   "id": "0387db78",
   "metadata": {},
   "outputs": [
    {
     "data": {
      "text/html": [
       "<div>\n",
       "<style scoped>\n",
       "    .dataframe tbody tr th:only-of-type {\n",
       "        vertical-align: middle;\n",
       "    }\n",
       "\n",
       "    .dataframe tbody tr th {\n",
       "        vertical-align: top;\n",
       "    }\n",
       "\n",
       "    .dataframe thead th {\n",
       "        text-align: right;\n",
       "    }\n",
       "</style>\n",
       "<table border=\"1\" class=\"dataframe\">\n",
       "  <thead>\n",
       "    <tr style=\"text-align: right;\">\n",
       "      <th></th>\n",
       "      <th>predictor</th>\n",
       "      <th>feature importance</th>\n",
       "    </tr>\n",
       "  </thead>\n",
       "  <tbody>\n",
       "    <tr>\n",
       "      <th>14</th>\n",
       "      <td>Alcohol</td>\n",
       "      <td>0.242065</td>\n",
       "    </tr>\n",
       "    <tr>\n",
       "      <th>0</th>\n",
       "      <td>DogsAllowed</td>\n",
       "      <td>0.205084</td>\n",
       "    </tr>\n",
       "    <tr>\n",
       "      <th>13</th>\n",
       "      <td>GoodForKids</td>\n",
       "      <td>0.142774</td>\n",
       "    </tr>\n",
       "    <tr>\n",
       "      <th>12</th>\n",
       "      <td>WheelchairAccessible</td>\n",
       "      <td>0.083351</td>\n",
       "    </tr>\n",
       "    <tr>\n",
       "      <th>3</th>\n",
       "      <td>DriveThru</td>\n",
       "      <td>0.078510</td>\n",
       "    </tr>\n",
       "    <tr>\n",
       "      <th>4</th>\n",
       "      <td>OutdoorSeating</td>\n",
       "      <td>0.054097</td>\n",
       "    </tr>\n",
       "    <tr>\n",
       "      <th>1</th>\n",
       "      <td>WiFi</td>\n",
       "      <td>0.040710</td>\n",
       "    </tr>\n",
       "    <tr>\n",
       "      <th>2</th>\n",
       "      <td>RestaurantsTakeOut</td>\n",
       "      <td>0.035527</td>\n",
       "    </tr>\n",
       "    <tr>\n",
       "      <th>9</th>\n",
       "      <td>NoiseLevel</td>\n",
       "      <td>0.030158</td>\n",
       "    </tr>\n",
       "    <tr>\n",
       "      <th>11</th>\n",
       "      <td>HasTV</td>\n",
       "      <td>0.026648</td>\n",
       "    </tr>\n",
       "    <tr>\n",
       "      <th>8</th>\n",
       "      <td>Smoking</td>\n",
       "      <td>0.023472</td>\n",
       "    </tr>\n",
       "    <tr>\n",
       "      <th>10</th>\n",
       "      <td>RestaurantsDelivery</td>\n",
       "      <td>0.021662</td>\n",
       "    </tr>\n",
       "    <tr>\n",
       "      <th>7</th>\n",
       "      <td>RestaurantsTableService</td>\n",
       "      <td>0.015941</td>\n",
       "    </tr>\n",
       "    <tr>\n",
       "      <th>5</th>\n",
       "      <td>BusinessAcceptsCreditCards</td>\n",
       "      <td>0.000000</td>\n",
       "    </tr>\n",
       "    <tr>\n",
       "      <th>6</th>\n",
       "      <td>ByAppointmentOnly</td>\n",
       "      <td>0.000000</td>\n",
       "    </tr>\n",
       "  </tbody>\n",
       "</table>\n",
       "</div>"
      ],
      "text/plain": [
       "                     predictor  feature importance\n",
       "14                     Alcohol            0.242065\n",
       "0                  DogsAllowed            0.205084\n",
       "13                 GoodForKids            0.142774\n",
       "12        WheelchairAccessible            0.083351\n",
       "3                    DriveThru            0.078510\n",
       "4               OutdoorSeating            0.054097\n",
       "1                         WiFi            0.040710\n",
       "2           RestaurantsTakeOut            0.035527\n",
       "9                   NoiseLevel            0.030158\n",
       "11                       HasTV            0.026648\n",
       "8                      Smoking            0.023472\n",
       "10         RestaurantsDelivery            0.021662\n",
       "7      RestaurantsTableService            0.015941\n",
       "5   BusinessAcceptsCreditCards            0.000000\n",
       "6            ByAppointmentOnly            0.000000"
      ]
     },
     "execution_count": 38,
     "metadata": {},
     "output_type": "execute_result"
    }
   ],
   "source": [
    "#5. Other attrbutes\n",
    "rf5=RandomForestClassifier(random_state=(5)) \n",
    "model5=rf4.fit(X5,y)\n",
    "model5.feature_importances_\n",
    "pd.DataFrame(list(zip(X5.columns,model5.feature_importances_)), columns = ['predictor','feature importance']).sort_values(by='feature importance',ascending=False)"
   ]
  },
  {
   "cell_type": "markdown",
   "id": "dca6478d",
   "metadata": {},
   "source": [
    "The results of the Random Forest will also help in identifying important predictors that the Yelp consultatnt may want to examine."
   ]
  }
 ],
 "metadata": {
  "kernelspec": {
   "display_name": "Python 3 (ipykernel)",
   "language": "python",
   "name": "python3"
  },
  "language_info": {
   "codemirror_mode": {
    "name": "ipython",
    "version": 3
   },
   "file_extension": ".py",
   "mimetype": "text/x-python",
   "name": "python",
   "nbconvert_exporter": "python",
   "pygments_lexer": "ipython3",
   "version": "3.9.12"
  }
 },
 "nbformat": 4,
 "nbformat_minor": 5
}
