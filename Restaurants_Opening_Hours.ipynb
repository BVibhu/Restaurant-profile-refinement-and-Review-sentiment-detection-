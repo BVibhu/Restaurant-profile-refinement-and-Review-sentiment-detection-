{
 "cells": [
  {
   "cell_type": "markdown",
   "id": "67cf9cbf",
   "metadata": {},
   "source": [
    "# Restaurants"
   ]
  },
  {
   "cell_type": "code",
   "execution_count": 1,
   "id": "10f23d44",
   "metadata": {},
   "outputs": [],
   "source": [
    "# Import libraries\n",
    "import pandas as pd\n",
    "import numpy as np"
   ]
  },
  {
   "cell_type": "code",
   "execution_count": 2,
   "id": "9c2490c4",
   "metadata": {},
   "outputs": [],
   "source": [
    "# Import the data\n",
    "df_business = pd.read_csv(r'C:\\Users\\jinho\\Downloads\\Mining\\Projects\\Team1\\data\\yelp_business.csv')\n",
    "df_attributes = pd.read_csv(r'C:\\Users\\jinho\\Downloads\\Mining\\Projects\\Team1\\data\\yelp_business_attributes.csv')\n",
    "df_hours = pd.read_csv(r'C:\\Users\\jinho\\Downloads\\Mining\\Projects\\Team1\\data\\yelp_business_hours.csv')\n",
    "df_checkin = pd.read_csv(r'C:\\Users\\jinho\\Downloads\\Mining\\Projects\\Team1\\data\\yelp_checkin.csv')\n",
    "df_review = pd.read_csv(r'C:\\Users\\jinho\\Downloads\\Mining\\Projects\\Team1\\data\\yelp_review.csv')\n",
    "df_tip = pd.read_csv(r'C:\\Users\\jinho\\Downloads\\Mining\\Projects\\Team1\\data\\yelp_tip.csv')\n",
    "df_user = pd.read_csv(r'C:\\Users\\jinho\\Downloads\\Mining\\Projects\\Team1\\data\\yelp_user.csv')"
   ]
  },
  {
   "cell_type": "code",
   "execution_count": 3,
   "id": "5d3360b5",
   "metadata": {},
   "outputs": [
    {
     "data": {
      "text/plain": [
       "Index(['business_id', 'monday', 'tuesday', 'wednesday', 'thursday', 'friday',\n",
       "       'saturday', 'sunday'],\n",
       "      dtype='object')"
      ]
     },
     "execution_count": 3,
     "metadata": {},
     "output_type": "execute_result"
    }
   ],
   "source": [
    "df_hours.columns"
   ]
  },
  {
   "cell_type": "code",
   "execution_count": 4,
   "id": "cd4924f6",
   "metadata": {},
   "outputs": [],
   "source": [
    "# Replace all 'Na' with NULL\n",
    "df_business = df_business.replace('Na', np.nan, regex = True)\n",
    "df_attributes = df_attributes.replace('Na', np.nan, regex = True)\n",
    "df_hours = df_hours.replace('Na', np.nan, regex = True)\n",
    "df_checkin = df_checkin.replace('Na', np.nan, regex = True)\n",
    "df_review = df_review.replace('Na', np.nan, regex = True)\n",
    "df_tip = df_tip.replace('Na', np.nan, regex = True)\n",
    "df_user = df_user.replace('Na', np.nan, regex = True)"
   ]
  },
  {
   "cell_type": "code",
   "execution_count": 6,
   "id": "b887c1df",
   "metadata": {},
   "outputs": [],
   "source": [
    "df_rating = df_business[['business_id', 'categories', 'stars', 'review_count']]\n",
    "df_restaurants = df_rating[df_rating['categories'].str.contains('Restaurants|Food') == True]"
   ]
  },
  {
   "cell_type": "markdown",
   "id": "351f87e6",
   "metadata": {},
   "source": [
    "## Effect of Business Hours"
   ]
  },
  {
   "cell_type": "markdown",
   "id": "aa240dd8",
   "metadata": {},
   "source": [
    "### Pre-Processing"
   ]
  },
  {
   "cell_type": "code",
   "execution_count": 133,
   "id": "d5c8d5b5",
   "metadata": {},
   "outputs": [],
   "source": [
    "star_hours = pd.merge(df_restaurants, df_hours, on = 'business_id', how = 'inner')\n",
    "\n",
    "# Replace all 'None' with NULL & Remove them\n",
    "star_hours = star_hours.replace('None', np.nan, regex = True)\n",
    "star_hours = star_hours.dropna()\n",
    "\n",
    "star_hours = star_hours.reset_index()\n",
    "star_hours = star_hours.drop(columns = ['index'])"
   ]
  },
  {
   "cell_type": "code",
   "execution_count": 134,
   "id": "c0f624bc",
   "metadata": {},
   "outputs": [],
   "source": [
    "star_hours[['mon_op','mon_close']] = star_hours['monday'].str.split('-', expand = True)\n",
    "star_hours[['tue_op','tue_close']] = star_hours['tuesday'].str.split('-', expand = True)\n",
    "star_hours[['wed_op','wed_close']] = star_hours['wednesday'].str.split('-', expand = True)\n",
    "star_hours[['th_op','th_close']] = star_hours['thursday'].str.split('-', expand = True)\n",
    "star_hours[['fr_op','fr_close']] = star_hours['friday'].str.split('-', expand = True)\n",
    "star_hours[['sat_op','sat_close']] = star_hours['saturday'].str.split('-', expand = True)\n",
    "star_hours[['sun_op','sun_close']] = star_hours['sunday'].str.split('-', expand = True)\n",
    "star_hours = star_hours.drop(columns = ['monday', 'tuesday', 'wednesday', 'thursday', 'friday', 'saturday', 'sunday'])"
   ]
  },
  {
   "cell_type": "code",
   "execution_count": 135,
   "id": "460f67d9",
   "metadata": {},
   "outputs": [],
   "source": [
    "# Striping minutes for the sake of simplicity\n",
    "list_of_cols = list(star_hours.columns)[4:]\n",
    "\n",
    "for i in range(len(star_hours)):\n",
    "    for col in list_of_cols:\n",
    "        head, sep, tail = star_hours.at[i,col].partition(':')\n",
    "        star_hours.at[i,col] = head"
   ]
  },
  {
   "cell_type": "code",
   "execution_count": 137,
   "id": "5e103fb0",
   "metadata": {},
   "outputs": [],
   "source": [
    "star_hours['mon_time'] = star_hours['mon_close'].astype(int) - star_hours['mon_op'].astype(int)\n",
    "star_hours.loc[star_hours['mon_time'] < 0, 'mon_time'] = 24 + star_hours['mon_close'].astype(int) - star_hours['mon_op'].astype(int)\n",
    "star_hours['tue_time'] = star_hours['tue_close'].astype(int) - star_hours['tue_op'].astype(int)\n",
    "star_hours.loc[star_hours['tue_time'] < 0, 'tue_time'] = 24 + star_hours['tue_close'].astype(int) - star_hours['tue_op'].astype(int)\n",
    "star_hours['wed_time'] = star_hours['wed_close'].astype(int) - star_hours['wed_op'].astype(int)\n",
    "star_hours.loc[star_hours['wed_time'] < 0, 'wed_time'] = 24 + star_hours['wed_close'].astype(int) - star_hours['wed_op'].astype(int)\n",
    "star_hours['th_time'] = star_hours['th_close'].astype(int) - star_hours['th_op'].astype(int)\n",
    "star_hours.loc[star_hours['th_time'] < 0, 'th_time'] = 24 + star_hours['th_close'].astype(int) - star_hours['th_op'].astype(int)\n",
    "star_hours['fr_time'] = star_hours['fr_close'].astype(int) - star_hours['fr_op'].astype(int)\n",
    "star_hours.loc[star_hours['fr_time'] < 0, 'fr_time'] = 24 + star_hours['fr_close'].astype(int) - star_hours['fr_op'].astype(int)\n",
    "star_hours['sat_time'] = star_hours['sat_close'].astype(int) - star_hours['sat_op'].astype(int)\n",
    "star_hours.loc[star_hours['sat_time'] < 0, 'sat_time'] = 24 + star_hours['sat_close'].astype(int) - star_hours['sat_op'].astype(int)\n",
    "star_hours['sun_time'] = star_hours['sun_close'].astype(int) - star_hours['sun_op'].astype(int)\n",
    "star_hours.loc[star_hours['sun_time'] < 0, 'sun_time'] = 24 + star_hours['sun_close'].astype(int) - star_hours['sun_op'].astype(int)"
   ]
  },
  {
   "cell_type": "code",
   "execution_count": 138,
   "id": "1eed52d7",
   "metadata": {},
   "outputs": [],
   "source": [
    "star_hours['weekly_time'] = star_hours['mon_time'] + star_hours['tue_time'] + star_hours['wed_time'] + star_hours['th_time'] + star_hours['fr_time'] + star_hours['sat_time'] + star_hours['sun_time']"
   ]
  },
  {
   "cell_type": "code",
   "execution_count": 140,
   "id": "a94bd9cb",
   "metadata": {},
   "outputs": [
    {
     "data": {
      "text/html": [
       "<div>\n",
       "<style scoped>\n",
       "    .dataframe tbody tr th:only-of-type {\n",
       "        vertical-align: middle;\n",
       "    }\n",
       "\n",
       "    .dataframe tbody tr th {\n",
       "        vertical-align: top;\n",
       "    }\n",
       "\n",
       "    .dataframe thead th {\n",
       "        text-align: right;\n",
       "    }\n",
       "</style>\n",
       "<table border=\"1\" class=\"dataframe\">\n",
       "  <thead>\n",
       "    <tr style=\"text-align: right;\">\n",
       "      <th></th>\n",
       "      <th>business_id</th>\n",
       "      <th>categories</th>\n",
       "      <th>stars</th>\n",
       "      <th>review_count</th>\n",
       "      <th>mon_op</th>\n",
       "      <th>mon_close</th>\n",
       "      <th>tue_op</th>\n",
       "      <th>tue_close</th>\n",
       "      <th>wed_op</th>\n",
       "      <th>wed_close</th>\n",
       "      <th>...</th>\n",
       "      <th>sun_op</th>\n",
       "      <th>sun_close</th>\n",
       "      <th>mon_time</th>\n",
       "      <th>tue_time</th>\n",
       "      <th>wed_time</th>\n",
       "      <th>th_time</th>\n",
       "      <th>fr_time</th>\n",
       "      <th>sat_time</th>\n",
       "      <th>sun_time</th>\n",
       "      <th>weekly_time</th>\n",
       "    </tr>\n",
       "  </thead>\n",
       "  <tbody>\n",
       "    <tr>\n",
       "      <th>0</th>\n",
       "      <td>PfOCPjBrlQAnz__NXj9h_w</td>\n",
       "      <td>American (New);Nightlife;Bars;Sandwiches;Ameri...</td>\n",
       "      <td>3.5</td>\n",
       "      <td>116</td>\n",
       "      <td>11</td>\n",
       "      <td>1</td>\n",
       "      <td>11</td>\n",
       "      <td>1</td>\n",
       "      <td>11</td>\n",
       "      <td>1</td>\n",
       "      <td>...</td>\n",
       "      <td>11</td>\n",
       "      <td>0</td>\n",
       "      <td>14</td>\n",
       "      <td>14</td>\n",
       "      <td>14</td>\n",
       "      <td>14</td>\n",
       "      <td>14</td>\n",
       "      <td>15</td>\n",
       "      <td>13</td>\n",
       "      <td>98</td>\n",
       "    </tr>\n",
       "    <tr>\n",
       "      <th>1</th>\n",
       "      <td>l09JfMeQ6ynYs5MCJtrcmQ</td>\n",
       "      <td>Italian;French;Restaurants</td>\n",
       "      <td>3.0</td>\n",
       "      <td>12</td>\n",
       "      <td>9</td>\n",
       "      <td>22</td>\n",
       "      <td>9</td>\n",
       "      <td>22</td>\n",
       "      <td>9</td>\n",
       "      <td>22</td>\n",
       "      <td>...</td>\n",
       "      <td>9</td>\n",
       "      <td>22</td>\n",
       "      <td>13</td>\n",
       "      <td>13</td>\n",
       "      <td>13</td>\n",
       "      <td>13</td>\n",
       "      <td>13</td>\n",
       "      <td>13</td>\n",
       "      <td>13</td>\n",
       "      <td>91</td>\n",
       "    </tr>\n",
       "    <tr>\n",
       "      <th>2</th>\n",
       "      <td>Gu-xs3NIQTj3Mj2xYoN2aw</td>\n",
       "      <td>French;Food;Bakeries;Restaurants</td>\n",
       "      <td>3.5</td>\n",
       "      <td>34</td>\n",
       "      <td>11</td>\n",
       "      <td>22</td>\n",
       "      <td>11</td>\n",
       "      <td>22</td>\n",
       "      <td>11</td>\n",
       "      <td>22</td>\n",
       "      <td>...</td>\n",
       "      <td>11</td>\n",
       "      <td>22</td>\n",
       "      <td>11</td>\n",
       "      <td>11</td>\n",
       "      <td>11</td>\n",
       "      <td>11</td>\n",
       "      <td>12</td>\n",
       "      <td>12</td>\n",
       "      <td>11</td>\n",
       "      <td>79</td>\n",
       "    </tr>\n",
       "    <tr>\n",
       "      <th>3</th>\n",
       "      <td>lHYiCS-y8AFjUitv6MGpxg</td>\n",
       "      <td>Food;Coffee &amp; Tea</td>\n",
       "      <td>4.0</td>\n",
       "      <td>21</td>\n",
       "      <td>5</td>\n",
       "      <td>22</td>\n",
       "      <td>5</td>\n",
       "      <td>22</td>\n",
       "      <td>5</td>\n",
       "      <td>22</td>\n",
       "      <td>...</td>\n",
       "      <td>7</td>\n",
       "      <td>22</td>\n",
       "      <td>17</td>\n",
       "      <td>17</td>\n",
       "      <td>17</td>\n",
       "      <td>17</td>\n",
       "      <td>18</td>\n",
       "      <td>17</td>\n",
       "      <td>15</td>\n",
       "      <td>118</td>\n",
       "    </tr>\n",
       "    <tr>\n",
       "      <th>4</th>\n",
       "      <td>1K4qrnfyzKzGgJPBEcJaNQ</td>\n",
       "      <td>Tiki Bars;Nightlife;Mexican;Restaurants;Bars</td>\n",
       "      <td>3.5</td>\n",
       "      <td>39</td>\n",
       "      <td>11</td>\n",
       "      <td>2</td>\n",
       "      <td>11</td>\n",
       "      <td>2</td>\n",
       "      <td>11</td>\n",
       "      <td>2</td>\n",
       "      <td>...</td>\n",
       "      <td>10</td>\n",
       "      <td>2</td>\n",
       "      <td>15</td>\n",
       "      <td>15</td>\n",
       "      <td>15</td>\n",
       "      <td>15</td>\n",
       "      <td>15</td>\n",
       "      <td>16</td>\n",
       "      <td>16</td>\n",
       "      <td>107</td>\n",
       "    </tr>\n",
       "  </tbody>\n",
       "</table>\n",
       "<p>5 rows × 26 columns</p>\n",
       "</div>"
      ],
      "text/plain": [
       "              business_id                                         categories  \\\n",
       "0  PfOCPjBrlQAnz__NXj9h_w  American (New);Nightlife;Bars;Sandwiches;Ameri...   \n",
       "1  l09JfMeQ6ynYs5MCJtrcmQ                         Italian;French;Restaurants   \n",
       "2  Gu-xs3NIQTj3Mj2xYoN2aw                   French;Food;Bakeries;Restaurants   \n",
       "3  lHYiCS-y8AFjUitv6MGpxg                                  Food;Coffee & Tea   \n",
       "4  1K4qrnfyzKzGgJPBEcJaNQ       Tiki Bars;Nightlife;Mexican;Restaurants;Bars   \n",
       "\n",
       "   stars  review_count mon_op mon_close tue_op tue_close wed_op wed_close  \\\n",
       "0    3.5           116     11         1     11         1     11         1   \n",
       "1    3.0            12      9        22      9        22      9        22   \n",
       "2    3.5            34     11        22     11        22     11        22   \n",
       "3    4.0            21      5        22      5        22      5        22   \n",
       "4    3.5            39     11         2     11         2     11         2   \n",
       "\n",
       "   ... sun_op sun_close mon_time tue_time wed_time th_time fr_time sat_time  \\\n",
       "0  ...     11         0       14       14       14      14      14       15   \n",
       "1  ...      9        22       13       13       13      13      13       13   \n",
       "2  ...     11        22       11       11       11      11      12       12   \n",
       "3  ...      7        22       17       17       17      17      18       17   \n",
       "4  ...     10         2       15       15       15      15      15       16   \n",
       "\n",
       "   sun_time  weekly_time  \n",
       "0        13           98  \n",
       "1        13           91  \n",
       "2        11           79  \n",
       "3        15          118  \n",
       "4        16          107  \n",
       "\n",
       "[5 rows x 26 columns]"
      ]
     },
     "execution_count": 140,
     "metadata": {},
     "output_type": "execute_result"
    }
   ],
   "source": [
    "star_hours.head()"
   ]
  },
  {
   "cell_type": "markdown",
   "id": "8a1c8912",
   "metadata": {},
   "source": [
    "### Linear Regression"
   ]
  },
  {
   "cell_type": "code",
   "execution_count": 158,
   "id": "b66558be",
   "metadata": {},
   "outputs": [
    {
     "name": "stdout",
     "output_type": "stream",
     "text": [
      "Coefficients: [-0.01512629  0.00716233 -0.00507305  0.02904103 -0.00350665  0.00244671\n",
      " -0.03828444]\n",
      "MSE: 0.5643320316519558\n"
     ]
    }
   ],
   "source": [
    "# Effect of time each day on stars\n",
    "X = star_hours[['mon_time', 'tue_time', 'wed_time', 'th_time', 'fr_time', 'sat_time', 'sun_time']]\n",
    "y = star_hours['stars']\n",
    "\n",
    "from sklearn.model_selection import train_test_split\n",
    "X_train, X_test, y_train, y_test = train_test_split(X, y, test_size = 0.33, random_state = 119)\n",
    "\n",
    "from sklearn.linear_model import LinearRegression\n",
    "lm = LinearRegression()\n",
    "model = lm.fit(X_train, y_train)\n",
    "\n",
    "print('Coefficients:', model.coef_)\n",
    "\n",
    "y_test_pred = model.predict(X_test)\n",
    "\n",
    "from sklearn.metrics import mean_squared_error\n",
    "lm_mse = mean_squared_error(y_test, y_test_pred)\n",
    "print('MSE:', lm_mse)"
   ]
  },
  {
   "cell_type": "code",
   "execution_count": 160,
   "id": "9e8c52aa",
   "metadata": {},
   "outputs": [
    {
     "name": "stdout",
     "output_type": "stream",
     "text": [
      "Coefficients: [-0.00311994]\n",
      "MSE: 0.568942467354237\n"
     ]
    }
   ],
   "source": [
    "# Effect of weekly_time on stars\n",
    "X = star_hours[['weekly_time']]\n",
    "y = star_hours['stars']\n",
    "\n",
    "from sklearn.model_selection import train_test_split\n",
    "X_train, X_test, y_train, y_test = train_test_split(X, y, test_size = 0.33, random_state = 119)\n",
    "\n",
    "from sklearn.linear_model import LinearRegression\n",
    "lm = LinearRegression()\n",
    "model = lm.fit(X_train, y_train)\n",
    "\n",
    "print('Coefficients:', model.coef_)\n",
    "\n",
    "y_test_pred = model.predict(X_test)\n",
    "\n",
    "from sklearn.metrics import mean_squared_error\n",
    "lm_mse = mean_squared_error(y_test, y_test_pred)\n",
    "print('MSE:', lm_mse)"
   ]
  },
  {
   "cell_type": "code",
   "execution_count": 161,
   "id": "72e57f27",
   "metadata": {},
   "outputs": [
    {
     "name": "stdout",
     "output_type": "stream",
     "text": [
      "Coefficients: [-2.56376676 -0.86740674  0.82144819 -6.44266379  1.26823347  3.21644183\n",
      "  3.76166889]\n",
      "MSE: 34163.393716284765\n"
     ]
    }
   ],
   "source": [
    "# Effect of time each day on review_count\n",
    "X = star_hours[['mon_time', 'tue_time', 'wed_time', 'th_time', 'fr_time', 'sat_time', 'sun_time']]\n",
    "y = star_hours['review_count']\n",
    "\n",
    "from sklearn.model_selection import train_test_split\n",
    "X_train, X_test, y_train, y_test = train_test_split(X, y, test_size = 0.33, random_state = 119)\n",
    "\n",
    "from sklearn.linear_model import LinearRegression\n",
    "lm = LinearRegression()\n",
    "model = lm.fit(X_train, y_train)\n",
    "\n",
    "print('Coefficients:', model.coef_)\n",
    "\n",
    "y_test_pred = model.predict(X_test)\n",
    "\n",
    "from sklearn.metrics import mean_squared_error\n",
    "lm_mse = mean_squared_error(y_test, y_test_pred)\n",
    "print('MSE:', lm_mse)"
   ]
  },
  {
   "cell_type": "code",
   "execution_count": 162,
   "id": "4ae94a80",
   "metadata": {},
   "outputs": [
    {
     "name": "stdout",
     "output_type": "stream",
     "text": [
      "Coefficients: [-0.13258439]\n",
      "MSE: 34325.83036228876\n"
     ]
    }
   ],
   "source": [
    "# Effect of weekly_time on stars\n",
    "X = star_hours[['weekly_time']]\n",
    "y = star_hours['review_count']\n",
    "\n",
    "from sklearn.model_selection import train_test_split\n",
    "X_train, X_test, y_train, y_test = train_test_split(X, y, test_size = 0.33, random_state = 119)\n",
    "\n",
    "from sklearn.linear_model import LinearRegression\n",
    "lm = LinearRegression()\n",
    "model = lm.fit(X_train, y_train)\n",
    "\n",
    "print('Coefficients:', model.coef_)\n",
    "\n",
    "y_test_pred = model.predict(X_test)\n",
    "\n",
    "from sklearn.metrics import mean_squared_error\n",
    "lm_mse = mean_squared_error(y_test, y_test_pred)\n",
    "print('MSE:', lm_mse)"
   ]
  },
  {
   "cell_type": "markdown",
   "id": "75b27fec",
   "metadata": {},
   "source": [
    "### Ridge"
   ]
  },
  {
   "cell_type": "code",
   "execution_count": 163,
   "id": "7eb082f2",
   "metadata": {},
   "outputs": [
    {
     "name": "stdout",
     "output_type": "stream",
     "text": [
      "Alpha =  1 : MSE = 34163.39394161127\n",
      "Alpha =  2 : MSE = 34163.3941674455\n",
      "Alpha =  3 : MSE = 34163.394393786766\n",
      "Alpha =  4 : MSE = 34163.3946206344\n",
      "Alpha =  5 : MSE = 34163.39484798772\n",
      "Alpha =  6 : MSE = 34163.39507584606\n",
      "Alpha =  7 : MSE = 34163.39530420876\n",
      "Alpha =  8 : MSE = 34163.39553307513\n",
      "Alpha =  9 : MSE = 34163.395762444496\n"
     ]
    }
   ],
   "source": [
    "# Effect of time each day on review_count\n",
    "X = star_hours[['mon_time', 'tue_time', 'wed_time', 'th_time', 'fr_time', 'sat_time', 'sun_time']]\n",
    "y = star_hours['review_count']\n",
    "\n",
    "from sklearn.model_selection import train_test_split\n",
    "X_train, X_test, y_train, y_test = train_test_split(X, y, test_size = 0.33, random_state = 119)\n",
    "\n",
    "from sklearn.linear_model import Ridge\n",
    "\n",
    "for i in range (1,10):\n",
    "    ridge = Ridge(alpha = i)\n",
    "    model = ridge.fit(X_train,y_train)\n",
    "    y_test_pred = model.predict(X_test)\n",
    "    print('Alpha = ',i,': MSE =', mean_squared_error(y_test, y_test_pred))"
   ]
  },
  {
   "cell_type": "code",
   "execution_count": 164,
   "id": "12d860b0",
   "metadata": {},
   "outputs": [
    {
     "name": "stdout",
     "output_type": "stream",
     "text": [
      "Alpha =  1 : MSE = 34325.83036318189\n",
      "Alpha =  2 : MSE = 34325.83036407503\n",
      "Alpha =  3 : MSE = 34325.830364968155\n",
      "Alpha =  4 : MSE = 34325.830365861286\n",
      "Alpha =  5 : MSE = 34325.83036675442\n",
      "Alpha =  6 : MSE = 34325.83036764755\n",
      "Alpha =  7 : MSE = 34325.83036854068\n",
      "Alpha =  8 : MSE = 34325.83036943382\n",
      "Alpha =  9 : MSE = 34325.83037032694\n"
     ]
    }
   ],
   "source": [
    "# Effect of weekly_time on stars\n",
    "X = star_hours[['weekly_time']]\n",
    "y = star_hours['review_count']\n",
    "\n",
    "from sklearn.model_selection import train_test_split\n",
    "X_train, X_test, y_train, y_test = train_test_split(X, y, test_size = 0.33, random_state = 119)\n",
    "\n",
    "from sklearn.linear_model import Ridge\n",
    "for i in range (1,10):\n",
    "    ridge = Ridge(alpha = i)\n",
    "    model = ridge.fit(X_train,y_train)\n",
    "    y_test_pred = model.predict(X_test)\n",
    "    print('Alpha = ', i, ': MSE =', mean_squared_error(y_test, y_test_pred))"
   ]
  },
  {
   "cell_type": "markdown",
   "id": "d0d3df17",
   "metadata": {},
   "source": [
    "### LASSO"
   ]
  },
  {
   "cell_type": "code",
   "execution_count": 166,
   "id": "ef35497f",
   "metadata": {},
   "outputs": [
    {
     "name": "stdout",
     "output_type": "stream",
     "text": [
      "Alpha =  1 : MSE = 34169.35016729976\n",
      "Alpha =  2 : MSE = 34172.706555621524\n",
      "Alpha =  3 : MSE = 34179.39017486131\n",
      "Alpha =  4 : MSE = 34189.39366797368\n",
      "Alpha =  5 : MSE = 34202.697626012494\n",
      "Alpha =  6 : MSE = 34219.3315615729\n",
      "Alpha =  7 : MSE = 34239.29479276272\n",
      "Alpha =  8 : MSE = 34258.59013100671\n",
      "Alpha =  9 : MSE = 34276.865867627545\n"
     ]
    }
   ],
   "source": [
    "# Effect of time each day on review_count\n",
    "X = star_hours[['mon_time', 'tue_time', 'wed_time', 'th_time', 'fr_time', 'sat_time', 'sun_time']]\n",
    "y = star_hours['review_count']\n",
    "\n",
    "from sklearn.model_selection import train_test_split\n",
    "X_train, X_test, y_train, y_test = train_test_split(X, y, test_size = 0.33, random_state = 119)\n",
    "\n",
    "from sklearn.linear_model import Lasso\n",
    "for i in range (1,10):\n",
    "    lasso = Lasso(alpha = i)\n",
    "    model = lasso.fit(X_train,y_train)\n",
    "    y_test_pred = model.predict(X_test)\n",
    "    print('Alpha = ', i, ': MSE =',mean_squared_error(y_test, y_test_pred))"
   ]
  },
  {
   "cell_type": "code",
   "execution_count": 167,
   "id": "cfd7feb3",
   "metadata": {},
   "outputs": [
    {
     "name": "stdout",
     "output_type": "stream",
     "text": [
      "Alpha =  1 : MSE = 34326.004859835164\n",
      "Alpha =  2 : MSE = 34326.18203833973\n",
      "Alpha =  3 : MSE = 34326.361897802475\n",
      "Alpha =  4 : MSE = 34326.54443822339\n",
      "Alpha =  5 : MSE = 34326.72965960249\n",
      "Alpha =  6 : MSE = 34326.91756193975\n",
      "Alpha =  7 : MSE = 34327.10814523519\n",
      "Alpha =  8 : MSE = 34327.301409488806\n",
      "Alpha =  9 : MSE = 34327.4973547006\n"
     ]
    }
   ],
   "source": [
    "# Effect of weekly_time on stars\n",
    "X = star_hours[['weekly_time']]\n",
    "y = star_hours['review_count']\n",
    "\n",
    "from sklearn.model_selection import train_test_split\n",
    "X_train, X_test, y_train, y_test = train_test_split(X, y, test_size = 0.33, random_state = 119)\n",
    "\n",
    "from sklearn.linear_model import Lasso\n",
    "for i in range (1,10):\n",
    "    lasso = Lasso(alpha = i)\n",
    "    model = lasso.fit(X_train,y_train)\n",
    "    y_test_pred = model.predict(X_test)\n",
    "    print('Alpha = ', i, ': MSE =',mean_squared_error(y_test, y_test_pred))"
   ]
  },
  {
   "cell_type": "code",
   "execution_count": null,
   "id": "1ebf5794",
   "metadata": {},
   "outputs": [],
   "source": []
  }
 ],
 "metadata": {
  "kernelspec": {
   "display_name": "Python 3 (ipykernel)",
   "language": "python",
   "name": "python3"
  },
  "language_info": {
   "codemirror_mode": {
    "name": "ipython",
    "version": 3
   },
   "file_extension": ".py",
   "mimetype": "text/x-python",
   "name": "python",
   "nbconvert_exporter": "python",
   "pygments_lexer": "ipython3",
   "version": "3.9.12"
  }
 },
 "nbformat": 4,
 "nbformat_minor": 5
}
