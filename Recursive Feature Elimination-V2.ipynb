{
 "cells": [
  {
   "cell_type": "markdown",
   "id": "2e538fc3",
   "metadata": {},
   "source": [
    "# Restaurants Feature Selection"
   ]
  },
  {
   "cell_type": "code",
   "execution_count": 1,
   "id": "35c4e45d",
   "metadata": {},
   "outputs": [],
   "source": [
    "# Import libraries\n",
    "import pandas as pd\n",
    "import numpy as np"
   ]
  },
  {
   "cell_type": "code",
   "execution_count": 2,
   "id": "b563268f",
   "metadata": {},
   "outputs": [],
   "source": [
    "# Import the data\n",
    "df_business = pd.read_csv(r\"C:\\Users\\Utkarsh\\Desktop\\INSY-662\\OneDrive_2022-10-07\\Yelp CSV\\yelp_business.csv\")\n",
    "df_attributes = pd.read_csv(r\"C:\\Users\\Utkarsh\\Desktop\\INSY-662\\OneDrive_2022-10-07\\Yelp CSV\\yelp_business_attributes.csv\")"
   ]
  },
  {
   "cell_type": "code",
   "execution_count": 3,
   "id": "0b36942e",
   "metadata": {},
   "outputs": [],
   "source": [
    "# Replace all 'Na' and 'None' with NULL\n",
    "df_business = df_business.replace({'Na': np.nan}, regex = True)\n",
    "df_attributes = df_attributes.replace({'Na': np.nan}, regex = True)"
   ]
  },
  {
   "cell_type": "code",
   "execution_count": 4,
   "id": "a7ebb8d7",
   "metadata": {},
   "outputs": [],
   "source": [
    "df_rating = df_business[['business_id', 'categories', 'stars', 'review_count']]\n",
    "df_restaurants = df_rating[df_rating['categories'].str.contains('Restaurants|Food') == True]"
   ]
  },
  {
   "cell_type": "markdown",
   "id": "c107933a",
   "metadata": {},
   "source": [
    "#### df_other\n",
    "ByAppointmentOnly, BusinessAcceptsCreditCards, RestaurantsPriceRange2, GoodFodKids, WheelchairAccessible, Alcohol, HasTV, NoiseLevel, RestaurantsAttire, RestaurantsGoodForGroups, WiFi, RestaurantsReservations, RestaurantsTakeOut, RestaurantsTableService, OutdoorSeating, RestaurantsDelivery, Smoking, DriveThru, DogsAllowed, RestaurantsCounterService\n",
    "<hr>\n",
    "\n",
    "#### df_dietary\n",
    "DietaryRestrictions_dairy-free, DietaryRestrictions_gluten-free, DietaryRestrictions_vegan, DietaryRestrictions_kosher, DietaryRestrictions_halal, DietaryRestrictions_soy-free, DietaryRestrictions_vegetarian\n",
    "<hr>\n",
    "\n",
    "#### df_ambience\n",
    "Ambience_romantic, Ambience_intimate, Ambience_classy, Ambience_hipster, Ambience_divey, Ambience_touristy, Ambience_trendy, Ambience_upscale, Ambience_casual\n",
    "<hr>\n",
    "\n",
    "#### df_parking\n",
    "BusinessParking_garage, BusinessParking_street, BusinessParking_validated, BusinessParking_lot, BusinessParking_valet, BikeParking\n",
    "<hr>\n",
    "\n",
    "#### df_good\n",
    "GoodForMeal_dessert, GoodForMeal_latenight, GoodForMeal_lunch, GoodForMeal_dinner, GoodForMeal_breakfast, GoodForMeal_brunch"
   ]
  },
  {
   "cell_type": "code",
   "execution_count": 5,
   "id": "ea9aed35",
   "metadata": {},
   "outputs": [],
   "source": [
    "df_dietary = df_attributes[['business_id', 'DietaryRestrictions_dairy-free', 'DietaryRestrictions_gluten-free',\n",
    "                            'DietaryRestrictions_vegan', 'DietaryRestrictions_kosher',\n",
    "                            'DietaryRestrictions_halal', 'DietaryRestrictions_soy-free',\n",
    "                            'DietaryRestrictions_vegetarian']]\n",
    "df_ambience = df_attributes[['business_id', 'Ambience_romantic', 'Ambience_intimate', 'Ambience_classy',\n",
    "                            'Ambience_hipster', 'Ambience_divey', 'Ambience_touristy',\n",
    "                            'Ambience_trendy', 'Ambience_upscale', 'Ambience_casual']]\n",
    "df_parking = df_attributes[['business_id', 'BusinessParking_garage', 'BusinessParking_street',\n",
    "                            'BusinessParking_validated', 'BusinessParking_lot',\n",
    "                            'BusinessParking_valet', 'BikeParking']]\n",
    "df_good = df_attributes[['business_id', 'GoodForMeal_dessert', 'GoodForMeal_latenight', 'GoodForMeal_lunch',\n",
    "                         'GoodForMeal_dinner', 'GoodForMeal_breakfast', 'GoodForMeal_brunch']]\n",
    "df_other = df_attributes[['business_id', 'ByAppointmentOnly', 'BusinessAcceptsCreditCards', 'RestaurantsPriceRange2',\n",
    "                          'GoodForKids', 'WheelchairAccessible', 'Alcohol',\n",
    "                          'HasTV', 'NoiseLevel', 'RestaurantsAttire',\n",
    "                          'RestaurantsGoodForGroups', 'WiFi', 'RestaurantsReservations',\n",
    "                          'RestaurantsTakeOut', 'RestaurantsTableService', 'OutdoorSeating',\n",
    "                          'RestaurantsDelivery', 'Smoking', 'DriveThru',\n",
    "                          'DogsAllowed', 'RestaurantsCounterService']]"
   ]
  },
  {
   "cell_type": "markdown",
   "id": "98ff8659",
   "metadata": {},
   "source": [
    "## Recursive Feature Elimination on Other"
   ]
  },
  {
   "cell_type": "code",
   "execution_count": 6,
   "id": "7930136b",
   "metadata": {},
   "outputs": [],
   "source": [
    "feat_other = pd.merge(df_restaurants, df_other, on = 'business_id', how = 'inner')\n",
    "pd.set_option('display.max_columns', None)\n",
    "\n",
    "# We need to dummify the variables and to determine how, we can use:\n",
    "# feat_other['GoodForKids'].value_counts()\n",
    "\n",
    "# The entire RestaurantsPriceRange2 column is null so we can drop it\n",
    "# We should also drop HasTV because the categories are full_bar and beer_and_wine\n",
    "# There are no 'True' in RestaurantsGoodForGroups\n",
    "# There is only one row that is not null in RestaurantsCounterService\n",
    "feat_other = feat_other.drop(columns = ['RestaurantsPriceRange2', 'HasTV', 'RestaurantsGoodForGroups', 'RestaurantsCounterService', 'RestaurantsAttire', 'RestaurantsReservations'])\n",
    "\n",
    "# GoodForKids\n",
    "\n",
    "# ByAppointmentOnly, BusinessAcceptsCreditCards, WheelchairAccessible, Alcohol, NoiseLevel, RestaurantsTakeOut\n",
    "# RestaurantsTableService, OutdoorSeating, RestaurantsDelivery, Smoking, DogsAllowed\n",
    "feat_other = feat_other.replace({np.NaN : 0, 'False' : 0, 'True' : 1}, regex = True)\n",
    "\n",
    "# DriveThru\n",
    "feat_other['DriveThru'] = feat_other['DriveThru'].replace({np.NaN : 0, 'outdoor' : 1, 'yes' : 1, 'no': 0}, regex = True)"
   ]
  },
  {
   "cell_type": "code",
   "execution_count": 7,
   "id": "060a3135",
   "metadata": {},
   "outputs": [
    {
     "data": {
      "text/plain": [
       "0         3.5\n",
       "1         4.0\n",
       "2         5.0\n",
       "3         4.5\n",
       "4         4.0\n",
       "         ... \n",
       "290444    2.5\n",
       "290445    3.0\n",
       "290446    3.0\n",
       "290447    4.0\n",
       "290448    3.0\n",
       "Name: stars, Length: 290449, dtype: float64"
      ]
     },
     "execution_count": 7,
     "metadata": {},
     "output_type": "execute_result"
    }
   ],
   "source": [
    "feat_other['stars']"
   ]
  },
  {
   "cell_type": "code",
   "execution_count": 8,
   "id": "6c5e2fa5",
   "metadata": {},
   "outputs": [
    {
     "data": {
      "text/plain": [
       "array([0, 1, 2, 3, 4, 5, 6, 7, 8], dtype=int64)"
      ]
     },
     "execution_count": 8,
     "metadata": {},
     "output_type": "execute_result"
    }
   ],
   "source": [
    "from sklearn import preprocessing\n",
    "from sklearn import utils\n",
    "\n",
    "X = feat_other.iloc[:, 4:]\n",
    "y = feat_other['stars']\n",
    "\n",
    "lab = preprocessing.LabelEncoder()\n",
    "y_transformed = lab.fit_transform(y)\n",
    "\n",
    "np.unique(y_transformed)"
   ]
  },
  {
   "cell_type": "code",
   "execution_count": 9,
   "id": "4a7bba23",
   "metadata": {},
   "outputs": [],
   "source": [
    "from sklearn.feature_selection import RFE\n",
    "from sklearn.linear_model import LogisticRegression\n",
    "\n",
    "lr = LogisticRegression(max_iter = 5000)\n",
    "rfe = RFE(lr, n_features_to_select = 1)\n",
    "model1 = rfe.fit(X,y_transformed)"
   ]
  },
  {
   "cell_type": "code",
   "execution_count": 10,
   "id": "69c96191",
   "metadata": {},
   "outputs": [
    {
     "data": {
      "text/html": [
       "<div>\n",
       "<style scoped>\n",
       "    .dataframe tbody tr th:only-of-type {\n",
       "        vertical-align: middle;\n",
       "    }\n",
       "\n",
       "    .dataframe tbody tr th {\n",
       "        vertical-align: top;\n",
       "    }\n",
       "\n",
       "    .dataframe thead th {\n",
       "        text-align: right;\n",
       "    }\n",
       "</style>\n",
       "<table border=\"1\" class=\"dataframe\">\n",
       "  <thead>\n",
       "    <tr style=\"text-align: right;\">\n",
       "      <th></th>\n",
       "      <th>predictor</th>\n",
       "      <th>ranking</th>\n",
       "    </tr>\n",
       "  </thead>\n",
       "  <tbody>\n",
       "    <tr>\n",
       "      <th>13</th>\n",
       "      <td>DogsAllowed</td>\n",
       "      <td>1</td>\n",
       "    </tr>\n",
       "    <tr>\n",
       "      <th>6</th>\n",
       "      <td>WiFi</td>\n",
       "      <td>2</td>\n",
       "    </tr>\n",
       "    <tr>\n",
       "      <th>7</th>\n",
       "      <td>RestaurantsTakeOut</td>\n",
       "      <td>3</td>\n",
       "    </tr>\n",
       "    <tr>\n",
       "      <th>11</th>\n",
       "      <td>Smoking</td>\n",
       "      <td>4</td>\n",
       "    </tr>\n",
       "    <tr>\n",
       "      <th>5</th>\n",
       "      <td>NoiseLevel</td>\n",
       "      <td>5</td>\n",
       "    </tr>\n",
       "    <tr>\n",
       "      <th>10</th>\n",
       "      <td>RestaurantsDelivery</td>\n",
       "      <td>6</td>\n",
       "    </tr>\n",
       "    <tr>\n",
       "      <th>12</th>\n",
       "      <td>DriveThru</td>\n",
       "      <td>7</td>\n",
       "    </tr>\n",
       "    <tr>\n",
       "      <th>3</th>\n",
       "      <td>WheelchairAccessible</td>\n",
       "      <td>8</td>\n",
       "    </tr>\n",
       "    <tr>\n",
       "      <th>1</th>\n",
       "      <td>BusinessAcceptsCreditCards</td>\n",
       "      <td>9</td>\n",
       "    </tr>\n",
       "    <tr>\n",
       "      <th>0</th>\n",
       "      <td>ByAppointmentOnly</td>\n",
       "      <td>10</td>\n",
       "    </tr>\n",
       "    <tr>\n",
       "      <th>9</th>\n",
       "      <td>OutdoorSeating</td>\n",
       "      <td>11</td>\n",
       "    </tr>\n",
       "    <tr>\n",
       "      <th>4</th>\n",
       "      <td>Alcohol</td>\n",
       "      <td>12</td>\n",
       "    </tr>\n",
       "    <tr>\n",
       "      <th>8</th>\n",
       "      <td>RestaurantsTableService</td>\n",
       "      <td>13</td>\n",
       "    </tr>\n",
       "    <tr>\n",
       "      <th>2</th>\n",
       "      <td>GoodForKids</td>\n",
       "      <td>14</td>\n",
       "    </tr>\n",
       "  </tbody>\n",
       "</table>\n",
       "</div>"
      ],
      "text/plain": [
       "                     predictor  ranking\n",
       "13                 DogsAllowed        1\n",
       "6                         WiFi        2\n",
       "7           RestaurantsTakeOut        3\n",
       "11                     Smoking        4\n",
       "5                   NoiseLevel        5\n",
       "10         RestaurantsDelivery        6\n",
       "12                   DriveThru        7\n",
       "3         WheelchairAccessible        8\n",
       "1   BusinessAcceptsCreditCards        9\n",
       "0            ByAppointmentOnly       10\n",
       "9               OutdoorSeating       11\n",
       "4                      Alcohol       12\n",
       "8      RestaurantsTableService       13\n",
       "2                  GoodForKids       14"
      ]
     },
     "execution_count": 10,
     "metadata": {},
     "output_type": "execute_result"
    }
   ],
   "source": [
    "pd.DataFrame(list(zip(X.columns,model1.ranking_)), columns = ['predictor','ranking']).sort_values(by = ['ranking'])"
   ]
  },
  {
   "cell_type": "markdown",
   "id": "4c0cc598",
   "metadata": {},
   "source": [
    "## Recursive Feature Elimination on Dietary"
   ]
  },
  {
   "cell_type": "code",
   "execution_count": 11,
   "id": "0b148e28",
   "metadata": {},
   "outputs": [],
   "source": [
    "feat_dietary = pd.merge(df_restaurants, df_dietary, on = 'business_id', how = 'inner')\n",
    "pd.set_option('display.max_columns', None)\n",
    "\n",
    "# The entire DietaryRestrictions_dairy-free column is null so we can drop it\n",
    "# There is only three, four, and five rows that are True in DietaryRestrictions_halal, DietaryRestrictions_soy-free, DietaryRestrictions_vegetarian\n",
    "feat_dietary = feat_dietary.drop(columns = ['DietaryRestrictions_dairy-free', 'DietaryRestrictions_halal', 'DietaryRestrictions_soy-free', 'DietaryRestrictions_vegetarian'])\n",
    "\n",
    "# DietaryRestrictions_gluten-free, DietaryRestrictions_vegan, DietaryRestrictions_kosher\n",
    "feat_dietary = feat_dietary.replace({np.NaN : 0, 'False' : 0, 'True' : 1}, regex = True)"
   ]
  },
  {
   "cell_type": "code",
   "execution_count": 12,
   "id": "382938b4",
   "metadata": {},
   "outputs": [
    {
     "data": {
      "text/plain": [
       "array([0, 1, 2, 3, 4, 5, 6, 7, 8], dtype=int64)"
      ]
     },
     "execution_count": 12,
     "metadata": {},
     "output_type": "execute_result"
    }
   ],
   "source": [
    "from sklearn import preprocessing\n",
    "from sklearn import utils\n",
    "\n",
    "X = feat_dietary.iloc[:, 4:]\n",
    "y = feat_dietary['stars']\n",
    "\n",
    "lab = preprocessing.LabelEncoder()\n",
    "y_transformed = lab.fit_transform(y)\n",
    "\n",
    "np.unique(y_transformed)"
   ]
  },
  {
   "cell_type": "code",
   "execution_count": 13,
   "id": "44e0a1eb",
   "metadata": {},
   "outputs": [],
   "source": [
    "from sklearn.feature_selection import RFE\n",
    "from sklearn.linear_model import LogisticRegression\n",
    "\n",
    "lr = LogisticRegression(max_iter = 5000)\n",
    "rfe = RFE(lr, n_features_to_select = 1)\n",
    "model2 = rfe.fit(X,y_transformed)"
   ]
  },
  {
   "cell_type": "code",
   "execution_count": 14,
   "id": "7d0881fb",
   "metadata": {},
   "outputs": [
    {
     "data": {
      "text/html": [
       "<div>\n",
       "<style scoped>\n",
       "    .dataframe tbody tr th:only-of-type {\n",
       "        vertical-align: middle;\n",
       "    }\n",
       "\n",
       "    .dataframe tbody tr th {\n",
       "        vertical-align: top;\n",
       "    }\n",
       "\n",
       "    .dataframe thead th {\n",
       "        text-align: right;\n",
       "    }\n",
       "</style>\n",
       "<table border=\"1\" class=\"dataframe\">\n",
       "  <thead>\n",
       "    <tr style=\"text-align: right;\">\n",
       "      <th></th>\n",
       "      <th>predictor</th>\n",
       "      <th>ranking</th>\n",
       "    </tr>\n",
       "  </thead>\n",
       "  <tbody>\n",
       "    <tr>\n",
       "      <th>2</th>\n",
       "      <td>DietaryRestrictions_kosher</td>\n",
       "      <td>1</td>\n",
       "    </tr>\n",
       "    <tr>\n",
       "      <th>0</th>\n",
       "      <td>DietaryRestrictions_gluten-free</td>\n",
       "      <td>2</td>\n",
       "    </tr>\n",
       "    <tr>\n",
       "      <th>1</th>\n",
       "      <td>DietaryRestrictions_vegan</td>\n",
       "      <td>3</td>\n",
       "    </tr>\n",
       "  </tbody>\n",
       "</table>\n",
       "</div>"
      ],
      "text/plain": [
       "                         predictor  ranking\n",
       "2       DietaryRestrictions_kosher        1\n",
       "0  DietaryRestrictions_gluten-free        2\n",
       "1        DietaryRestrictions_vegan        3"
      ]
     },
     "execution_count": 14,
     "metadata": {},
     "output_type": "execute_result"
    }
   ],
   "source": [
    "pd.DataFrame(list(zip(X.columns,model2.ranking_)), columns = ['predictor','ranking']).sort_values(by = ['ranking'])"
   ]
  },
  {
   "cell_type": "markdown",
   "id": "1db7142b",
   "metadata": {},
   "source": [
    "## Recursive Feature Elimination on Ambience"
   ]
  },
  {
   "cell_type": "code",
   "execution_count": 15,
   "id": "e4b1f200",
   "metadata": {},
   "outputs": [],
   "source": [
    "feat_dietary = pd.merge(df_restaurants, df_dietary, on = 'business_id', how = 'inner')\n",
    "pd.set_option('display.max_columns', None)\n",
    "\n",
    "# The entire DietaryRestrictions_dairy-free column is null so we can drop it\n",
    "# There is only six, zero, zero, zero, zero, zero, zero, zero, zero rows that are True in Ambience_romantic, Ambience_intimate, Ambience_classy, Ambience_hipster, Ambience_divey, Ambience_touristy, Ambience_trendy, Ambience_upscale, Ambience_casual \n",
    "\n",
    "#Thus, Ambience data is not useful"
   ]
  },
  {
   "cell_type": "markdown",
   "id": "acf976e5",
   "metadata": {},
   "source": [
    "## Recursive Feature Elimination on Parking"
   ]
  },
  {
   "cell_type": "code",
   "execution_count": 16,
   "id": "807cecea",
   "metadata": {},
   "outputs": [],
   "source": [
    "feat_parking = pd.merge(df_restaurants, df_parking, on = 'business_id', how = 'inner')\n",
    "pd.set_option('display.max_columns', None)\n",
    "\n",
    "\n",
    "feat_parking = feat_parking.replace({np.NaN : 0, 'False' : 0, 'True' : 1}, regex = True)"
   ]
  },
  {
   "cell_type": "code",
   "execution_count": 17,
   "id": "8727c9f1",
   "metadata": {},
   "outputs": [
    {
     "data": {
      "text/plain": [
       "array([0, 1, 2, 3, 4, 5, 6, 7, 8], dtype=int64)"
      ]
     },
     "execution_count": 17,
     "metadata": {},
     "output_type": "execute_result"
    }
   ],
   "source": [
    "from sklearn import preprocessing\n",
    "from sklearn import utils\n",
    "\n",
    "X = feat_parking.iloc[:, 4:]\n",
    "y = feat_parking['stars']\n",
    "\n",
    "lab = preprocessing.LabelEncoder()\n",
    "y_transformed = lab.fit_transform(y)\n",
    "\n",
    "np.unique(y_transformed)"
   ]
  },
  {
   "cell_type": "code",
   "execution_count": 18,
   "id": "91853645",
   "metadata": {},
   "outputs": [],
   "source": [
    "from sklearn.feature_selection import RFE\n",
    "from sklearn.linear_model import LogisticRegression\n",
    "\n",
    "lr = LogisticRegression(max_iter = 5000)\n",
    "rfe = RFE(lr, n_features_to_select = 1)\n",
    "model3 = rfe.fit(X,y_transformed)"
   ]
  },
  {
   "cell_type": "code",
   "execution_count": 19,
   "id": "3a642f80",
   "metadata": {},
   "outputs": [
    {
     "data": {
      "text/html": [
       "<div>\n",
       "<style scoped>\n",
       "    .dataframe tbody tr th:only-of-type {\n",
       "        vertical-align: middle;\n",
       "    }\n",
       "\n",
       "    .dataframe tbody tr th {\n",
       "        vertical-align: top;\n",
       "    }\n",
       "\n",
       "    .dataframe thead th {\n",
       "        text-align: right;\n",
       "    }\n",
       "</style>\n",
       "<table border=\"1\" class=\"dataframe\">\n",
       "  <thead>\n",
       "    <tr style=\"text-align: right;\">\n",
       "      <th></th>\n",
       "      <th>predictor</th>\n",
       "      <th>ranking</th>\n",
       "    </tr>\n",
       "  </thead>\n",
       "  <tbody>\n",
       "    <tr>\n",
       "      <th>3</th>\n",
       "      <td>BusinessParking_lot</td>\n",
       "      <td>1</td>\n",
       "    </tr>\n",
       "    <tr>\n",
       "      <th>1</th>\n",
       "      <td>BusinessParking_street</td>\n",
       "      <td>2</td>\n",
       "    </tr>\n",
       "    <tr>\n",
       "      <th>4</th>\n",
       "      <td>BusinessParking_valet</td>\n",
       "      <td>3</td>\n",
       "    </tr>\n",
       "    <tr>\n",
       "      <th>2</th>\n",
       "      <td>BusinessParking_validated</td>\n",
       "      <td>4</td>\n",
       "    </tr>\n",
       "    <tr>\n",
       "      <th>5</th>\n",
       "      <td>BikeParking</td>\n",
       "      <td>5</td>\n",
       "    </tr>\n",
       "    <tr>\n",
       "      <th>0</th>\n",
       "      <td>BusinessParking_garage</td>\n",
       "      <td>6</td>\n",
       "    </tr>\n",
       "  </tbody>\n",
       "</table>\n",
       "</div>"
      ],
      "text/plain": [
       "                   predictor  ranking\n",
       "3        BusinessParking_lot        1\n",
       "1     BusinessParking_street        2\n",
       "4      BusinessParking_valet        3\n",
       "2  BusinessParking_validated        4\n",
       "5                BikeParking        5\n",
       "0     BusinessParking_garage        6"
      ]
     },
     "execution_count": 19,
     "metadata": {},
     "output_type": "execute_result"
    }
   ],
   "source": [
    "pd.DataFrame(list(zip(X.columns,model3.ranking_)), columns = ['predictor','ranking']).sort_values(by = ['ranking'])"
   ]
  },
  {
   "cell_type": "markdown",
   "id": "481deeaa",
   "metadata": {},
   "source": [
    "## Recursive Feature Elimination on Good"
   ]
  },
  {
   "cell_type": "code",
   "execution_count": 22,
   "id": "02012e8f",
   "metadata": {},
   "outputs": [],
   "source": [
    "feat_good = pd.merge(df_restaurants, df_good, on = 'business_id', how = 'inner')\n",
    "pd.set_option('display.max_columns', None)\n",
    "\n",
    "\n",
    "feat_good = feat_good.replace({np.NaN : 0, 'False' : 0, 'True' : 1}, regex = True)"
   ]
  },
  {
   "cell_type": "code",
   "execution_count": 23,
   "id": "a0bf0304",
   "metadata": {},
   "outputs": [
    {
     "data": {
      "text/html": [
       "<div>\n",
       "<style scoped>\n",
       "    .dataframe tbody tr th:only-of-type {\n",
       "        vertical-align: middle;\n",
       "    }\n",
       "\n",
       "    .dataframe tbody tr th {\n",
       "        vertical-align: top;\n",
       "    }\n",
       "\n",
       "    .dataframe thead th {\n",
       "        text-align: right;\n",
       "    }\n",
       "</style>\n",
       "<table border=\"1\" class=\"dataframe\">\n",
       "  <thead>\n",
       "    <tr style=\"text-align: right;\">\n",
       "      <th></th>\n",
       "      <th>business_id</th>\n",
       "      <th>categories</th>\n",
       "      <th>stars</th>\n",
       "      <th>review_count</th>\n",
       "      <th>GoodForMeal_dessert</th>\n",
       "      <th>GoodForMeal_latenight</th>\n",
       "      <th>GoodForMeal_lunch</th>\n",
       "      <th>GoodForMeal_dinner</th>\n",
       "      <th>GoodForMeal_breakfast</th>\n",
       "      <th>GoodForMeal_brunch</th>\n",
       "    </tr>\n",
       "  </thead>\n",
       "  <tbody>\n",
       "    <tr>\n",
       "      <th>0</th>\n",
       "      <td>PfOCPjBrlQAnz__NXj9h_w</td>\n",
       "      <td>American (New);Nightlife;Bars;Sandwiches;Ameri...</td>\n",
       "      <td>3.5</td>\n",
       "      <td>116</td>\n",
       "      <td>0</td>\n",
       "      <td>0</td>\n",
       "      <td>0</td>\n",
       "      <td>0</td>\n",
       "      <td>0</td>\n",
       "      <td>0</td>\n",
       "    </tr>\n",
       "    <tr>\n",
       "      <th>1</th>\n",
       "      <td>o9eMRCWt5PkpLDE0gOPtcQ</td>\n",
       "      <td>Italian;Restaurants</td>\n",
       "      <td>4.0</td>\n",
       "      <td>5</td>\n",
       "      <td>0</td>\n",
       "      <td>0</td>\n",
       "      <td>0</td>\n",
       "      <td>0</td>\n",
       "      <td>0</td>\n",
       "      <td>0</td>\n",
       "    </tr>\n",
       "    <tr>\n",
       "      <th>2</th>\n",
       "      <td>EsMcGiZaQuG1OOvL9iUFug</td>\n",
       "      <td>Coffee &amp; Tea;Ice Cream &amp; Frozen Yogurt;Food</td>\n",
       "      <td>5.0</td>\n",
       "      <td>15</td>\n",
       "      <td>0</td>\n",
       "      <td>0</td>\n",
       "      <td>0</td>\n",
       "      <td>0</td>\n",
       "      <td>0</td>\n",
       "      <td>0</td>\n",
       "    </tr>\n",
       "    <tr>\n",
       "      <th>3</th>\n",
       "      <td>XOSRcvtaKc_Q5H1SAzN20A</td>\n",
       "      <td>Breakfast &amp; Brunch;Gluten-Free;Coffee &amp; Tea;Fo...</td>\n",
       "      <td>4.5</td>\n",
       "      <td>3</td>\n",
       "      <td>0</td>\n",
       "      <td>0</td>\n",
       "      <td>0</td>\n",
       "      <td>0</td>\n",
       "      <td>0</td>\n",
       "      <td>0</td>\n",
       "    </tr>\n",
       "    <tr>\n",
       "      <th>4</th>\n",
       "      <td>xcgFnd-MwkZeO5G2HQ0gAQ</td>\n",
       "      <td>Bakeries;Bagels;Food</td>\n",
       "      <td>4.0</td>\n",
       "      <td>38</td>\n",
       "      <td>0</td>\n",
       "      <td>0</td>\n",
       "      <td>0</td>\n",
       "      <td>0</td>\n",
       "      <td>0</td>\n",
       "      <td>0</td>\n",
       "    </tr>\n",
       "    <tr>\n",
       "      <th>...</th>\n",
       "      <td>...</td>\n",
       "      <td>...</td>\n",
       "      <td>...</td>\n",
       "      <td>...</td>\n",
       "      <td>...</td>\n",
       "      <td>...</td>\n",
       "      <td>...</td>\n",
       "      <td>...</td>\n",
       "      <td>...</td>\n",
       "      <td>...</td>\n",
       "    </tr>\n",
       "    <tr>\n",
       "      <th>290444</th>\n",
       "      <td>pUhU5ohYv65g8B47dTXAKA</td>\n",
       "      <td>Coffee &amp; Tea;Food</td>\n",
       "      <td>2.5</td>\n",
       "      <td>35</td>\n",
       "      <td>0</td>\n",
       "      <td>0</td>\n",
       "      <td>0</td>\n",
       "      <td>0</td>\n",
       "      <td>0</td>\n",
       "      <td>0</td>\n",
       "    </tr>\n",
       "    <tr>\n",
       "      <th>290445</th>\n",
       "      <td>FxtrmM1a_0jcNnxiEF_Emg</td>\n",
       "      <td>Restaurants;Beer Garden</td>\n",
       "      <td>3.0</td>\n",
       "      <td>21</td>\n",
       "      <td>0</td>\n",
       "      <td>0</td>\n",
       "      <td>0</td>\n",
       "      <td>0</td>\n",
       "      <td>0</td>\n",
       "      <td>0</td>\n",
       "    </tr>\n",
       "    <tr>\n",
       "      <th>290446</th>\n",
       "      <td>yJH_gq99aEj8xtyBaAQH8Q</td>\n",
       "      <td>German;Restaurants</td>\n",
       "      <td>3.0</td>\n",
       "      <td>52</td>\n",
       "      <td>0</td>\n",
       "      <td>0</td>\n",
       "      <td>0</td>\n",
       "      <td>0</td>\n",
       "      <td>0</td>\n",
       "      <td>0</td>\n",
       "    </tr>\n",
       "    <tr>\n",
       "      <th>290447</th>\n",
       "      <td>UdEmYOnk2iJDY9lpEPAlJQ</td>\n",
       "      <td>Pizza;Event Planning &amp; Services;Italian;Catere...</td>\n",
       "      <td>4.0</td>\n",
       "      <td>374</td>\n",
       "      <td>0</td>\n",
       "      <td>0</td>\n",
       "      <td>0</td>\n",
       "      <td>0</td>\n",
       "      <td>0</td>\n",
       "      <td>0</td>\n",
       "    </tr>\n",
       "    <tr>\n",
       "      <th>290448</th>\n",
       "      <td>kLFm_kehXNZkUc1oa2-Eaw</td>\n",
       "      <td>Food;Ethnic Food;Specialty Food;Imported Food</td>\n",
       "      <td>3.0</td>\n",
       "      <td>4</td>\n",
       "      <td>0</td>\n",
       "      <td>0</td>\n",
       "      <td>0</td>\n",
       "      <td>0</td>\n",
       "      <td>0</td>\n",
       "      <td>0</td>\n",
       "    </tr>\n",
       "  </tbody>\n",
       "</table>\n",
       "<p>290449 rows × 10 columns</p>\n",
       "</div>"
      ],
      "text/plain": [
       "                   business_id  \\\n",
       "0       PfOCPjBrlQAnz__NXj9h_w   \n",
       "1       o9eMRCWt5PkpLDE0gOPtcQ   \n",
       "2       EsMcGiZaQuG1OOvL9iUFug   \n",
       "3       XOSRcvtaKc_Q5H1SAzN20A   \n",
       "4       xcgFnd-MwkZeO5G2HQ0gAQ   \n",
       "...                        ...   \n",
       "290444  pUhU5ohYv65g8B47dTXAKA   \n",
       "290445  FxtrmM1a_0jcNnxiEF_Emg   \n",
       "290446  yJH_gq99aEj8xtyBaAQH8Q   \n",
       "290447  UdEmYOnk2iJDY9lpEPAlJQ   \n",
       "290448  kLFm_kehXNZkUc1oa2-Eaw   \n",
       "\n",
       "                                               categories  stars  \\\n",
       "0       American (New);Nightlife;Bars;Sandwiches;Ameri...    3.5   \n",
       "1                                     Italian;Restaurants    4.0   \n",
       "2             Coffee & Tea;Ice Cream & Frozen Yogurt;Food    5.0   \n",
       "3       Breakfast & Brunch;Gluten-Free;Coffee & Tea;Fo...    4.5   \n",
       "4                                    Bakeries;Bagels;Food    4.0   \n",
       "...                                                   ...    ...   \n",
       "290444                                  Coffee & Tea;Food    2.5   \n",
       "290445                            Restaurants;Beer Garden    3.0   \n",
       "290446                                 German;Restaurants    3.0   \n",
       "290447  Pizza;Event Planning & Services;Italian;Catere...    4.0   \n",
       "290448      Food;Ethnic Food;Specialty Food;Imported Food    3.0   \n",
       "\n",
       "        review_count  GoodForMeal_dessert  GoodForMeal_latenight  \\\n",
       "0                116                    0                      0   \n",
       "1                  5                    0                      0   \n",
       "2                 15                    0                      0   \n",
       "3                  3                    0                      0   \n",
       "4                 38                    0                      0   \n",
       "...              ...                  ...                    ...   \n",
       "290444            35                    0                      0   \n",
       "290445            21                    0                      0   \n",
       "290446            52                    0                      0   \n",
       "290447           374                    0                      0   \n",
       "290448             4                    0                      0   \n",
       "\n",
       "        GoodForMeal_lunch  GoodForMeal_dinner  GoodForMeal_breakfast  \\\n",
       "0                       0                   0                      0   \n",
       "1                       0                   0                      0   \n",
       "2                       0                   0                      0   \n",
       "3                       0                   0                      0   \n",
       "4                       0                   0                      0   \n",
       "...                   ...                 ...                    ...   \n",
       "290444                  0                   0                      0   \n",
       "290445                  0                   0                      0   \n",
       "290446                  0                   0                      0   \n",
       "290447                  0                   0                      0   \n",
       "290448                  0                   0                      0   \n",
       "\n",
       "        GoodForMeal_brunch  \n",
       "0                        0  \n",
       "1                        0  \n",
       "2                        0  \n",
       "3                        0  \n",
       "4                        0  \n",
       "...                    ...  \n",
       "290444                   0  \n",
       "290445                   0  \n",
       "290446                   0  \n",
       "290447                   0  \n",
       "290448                   0  \n",
       "\n",
       "[290449 rows x 10 columns]"
      ]
     },
     "execution_count": 23,
     "metadata": {},
     "output_type": "execute_result"
    }
   ],
   "source": [
    "feat_good"
   ]
  },
  {
   "cell_type": "code",
   "execution_count": 24,
   "id": "23509051",
   "metadata": {},
   "outputs": [
    {
     "data": {
      "text/plain": [
       "array([0, 1, 2, 3, 4, 5, 6, 7, 8], dtype=int64)"
      ]
     },
     "execution_count": 24,
     "metadata": {},
     "output_type": "execute_result"
    }
   ],
   "source": [
    "from sklearn import preprocessing\n",
    "from sklearn import utils\n",
    "\n",
    "X = feat_good.iloc[:, 4:]\n",
    "y = feat_good['stars']\n",
    "\n",
    "lab = preprocessing.LabelEncoder()\n",
    "y_transformed = lab.fit_transform(y)\n",
    "\n",
    "np.unique(y_transformed)"
   ]
  },
  {
   "cell_type": "code",
   "execution_count": 25,
   "id": "95267c96",
   "metadata": {},
   "outputs": [],
   "source": [
    "from sklearn.feature_selection import RFE\n",
    "from sklearn.linear_model import LogisticRegression\n",
    "\n",
    "lr = LogisticRegression(max_iter = 5000)\n",
    "rfe = RFE(lr, n_features_to_select = 1)\n",
    "model4 = rfe.fit(X,y_transformed)"
   ]
  },
  {
   "cell_type": "code",
   "execution_count": 26,
   "id": "2133c38b",
   "metadata": {},
   "outputs": [
    {
     "data": {
      "text/html": [
       "<div>\n",
       "<style scoped>\n",
       "    .dataframe tbody tr th:only-of-type {\n",
       "        vertical-align: middle;\n",
       "    }\n",
       "\n",
       "    .dataframe tbody tr th {\n",
       "        vertical-align: top;\n",
       "    }\n",
       "\n",
       "    .dataframe thead th {\n",
       "        text-align: right;\n",
       "    }\n",
       "</style>\n",
       "<table border=\"1\" class=\"dataframe\">\n",
       "  <thead>\n",
       "    <tr style=\"text-align: right;\">\n",
       "      <th></th>\n",
       "      <th>predictor</th>\n",
       "      <th>ranking</th>\n",
       "    </tr>\n",
       "  </thead>\n",
       "  <tbody>\n",
       "    <tr>\n",
       "      <th>5</th>\n",
       "      <td>GoodForMeal_brunch</td>\n",
       "      <td>1</td>\n",
       "    </tr>\n",
       "    <tr>\n",
       "      <th>1</th>\n",
       "      <td>GoodForMeal_latenight</td>\n",
       "      <td>2</td>\n",
       "    </tr>\n",
       "    <tr>\n",
       "      <th>2</th>\n",
       "      <td>GoodForMeal_lunch</td>\n",
       "      <td>3</td>\n",
       "    </tr>\n",
       "    <tr>\n",
       "      <th>3</th>\n",
       "      <td>GoodForMeal_dinner</td>\n",
       "      <td>4</td>\n",
       "    </tr>\n",
       "    <tr>\n",
       "      <th>4</th>\n",
       "      <td>GoodForMeal_breakfast</td>\n",
       "      <td>5</td>\n",
       "    </tr>\n",
       "    <tr>\n",
       "      <th>0</th>\n",
       "      <td>GoodForMeal_dessert</td>\n",
       "      <td>6</td>\n",
       "    </tr>\n",
       "  </tbody>\n",
       "</table>\n",
       "</div>"
      ],
      "text/plain": [
       "               predictor  ranking\n",
       "5     GoodForMeal_brunch        1\n",
       "1  GoodForMeal_latenight        2\n",
       "2      GoodForMeal_lunch        3\n",
       "3     GoodForMeal_dinner        4\n",
       "4  GoodForMeal_breakfast        5\n",
       "0    GoodForMeal_dessert        6"
      ]
     },
     "execution_count": 26,
     "metadata": {},
     "output_type": "execute_result"
    }
   ],
   "source": [
    "pd.DataFrame(list(zip(X.columns,model4.ranking_)), columns = ['predictor','ranking']).sort_values(by = ['ranking'])"
   ]
  },
  {
   "cell_type": "code",
   "execution_count": null,
   "id": "ce15ab3f",
   "metadata": {},
   "outputs": [],
   "source": []
  }
 ],
 "metadata": {
  "kernelspec": {
   "display_name": "Python 3 (ipykernel)",
   "language": "python",
   "name": "python3"
  },
  "language_info": {
   "codemirror_mode": {
    "name": "ipython",
    "version": 3
   },
   "file_extension": ".py",
   "mimetype": "text/x-python",
   "name": "python",
   "nbconvert_exporter": "python",
   "pygments_lexer": "ipython3",
   "version": "3.9.12"
  }
 },
 "nbformat": 4,
 "nbformat_minor": 5
}
