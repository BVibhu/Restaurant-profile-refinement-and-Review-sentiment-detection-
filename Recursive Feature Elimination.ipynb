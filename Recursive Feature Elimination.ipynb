{
 "cells": [
  {
   "cell_type": "markdown",
   "id": "2e538fc3",
   "metadata": {},
   "source": [
    "# Restaurants Feature Selection"
   ]
  },
  {
   "cell_type": "code",
   "execution_count": 1,
   "id": "35c4e45d",
   "metadata": {},
   "outputs": [],
   "source": [
    "# Import libraries\n",
    "import pandas as pd\n",
    "import numpy as np"
   ]
  },
  {
   "cell_type": "code",
   "execution_count": 2,
   "id": "b563268f",
   "metadata": {},
   "outputs": [],
   "source": [
    "# Import the data\n",
    "df_business = pd.read_csv(r'C:\\Users\\jinho\\Downloads\\Mining\\Projects\\Team1\\data\\yelp_business.csv')\n",
    "df_attributes = pd.read_csv(r'C:\\Users\\jinho\\Downloads\\Mining\\Projects\\Team1\\data\\yelp_business_attributes.csv')"
   ]
  },
  {
   "cell_type": "code",
   "execution_count": 3,
   "id": "0b36942e",
   "metadata": {},
   "outputs": [],
   "source": [
    "# Replace all 'Na' and 'None' with NULL\n",
    "df_business = df_business.replace({'Na': np.nan}, regex = True)\n",
    "df_attributes = df_attributes.replace({'Na': np.nan}, regex = True)"
   ]
  },
  {
   "cell_type": "code",
   "execution_count": 4,
   "id": "a7ebb8d7",
   "metadata": {},
   "outputs": [],
   "source": [
    "df_rating = df_business[['business_id', 'categories', 'stars', 'review_count']]\n",
    "df_restaurants = df_rating[df_rating['categories'].str.contains('Restaurants|Food') == True]"
   ]
  },
  {
   "cell_type": "markdown",
   "id": "c107933a",
   "metadata": {},
   "source": [
    "#### df_other\n",
    "ByAppointmentOnly, BusinessAcceptsCreditCards, RestaurantsPriceRange2, GoodFodKids, WheelchairAccessible, Alcohol, HasTV, NoiseLevel, RestaurantsAttire, RestaurantsGoodForGroups, WiFi, RestaurantsReservations, RestaurantsTakeOut, RestaurantsTableService, OutdoorSeating, RestaurantsDelivery, Smoking, DriveThru, DogsAllowed, RestaurantsCounterService\n",
    "<hr>\n",
    "\n",
    "#### df_dietary\n",
    "DietaryRestrictions_dairy-free, DietaryRestrictions_gluten-free, DietaryRestrictions_vegan, DietaryRestrictions_kosher, DietaryRestrictions_halal, DietaryRestrictions_soy-free, DietaryRestrictions_vegetarian\n",
    "<hr>\n",
    "\n",
    "#### df_ambience\n",
    "Ambience_romantic, Ambience_intimate, Ambience_classy, Ambience_hipster, Ambience_divey, Ambience_touristy, Ambience_trendy, Ambience_upscale, Ambience_casual\n",
    "<hr>\n",
    "\n",
    "#### df_parking\n",
    "BusinessParking_garage, BusinessParking_street, BusinessParking_validated, BusinessParking_lot, BusinessParking_valet, BikeParking\n",
    "<hr>\n",
    "\n",
    "#### df_good\n",
    "GoodForMeal_dessert, GoodForMeal_latenight, GoodForMeal_lunch, GoodForMeal_dinner, GoodForMeal_breakfast, GoodForMeal_brunch"
   ]
  },
  {
   "cell_type": "code",
   "execution_count": 5,
   "id": "ea9aed35",
   "metadata": {},
   "outputs": [],
   "source": [
    "df_dietary = df_attributes[['business_id', 'DietaryRestrictions_dairy-free', 'DietaryRestrictions_gluten-free',\n",
    "                            'DietaryRestrictions_vegan', 'DietaryRestrictions_kosher',\n",
    "                            'DietaryRestrictions_halal', 'DietaryRestrictions_soy-free',\n",
    "                            'DietaryRestrictions_vegetarian']]\n",
    "df_ambience = df_attributes[['business_id', 'Ambience_romantic', 'Ambience_intimate', 'Ambience_classy',\n",
    "                            'Ambience_hipster', 'Ambience_divey', 'Ambience_touristy',\n",
    "                            'Ambience_trendy', 'Ambience_upscale', 'Ambience_casual']]\n",
    "df_parking = df_attributes[['business_id', 'BusinessParking_garage', 'BusinessParking_street',\n",
    "                            'BusinessParking_validated', 'BusinessParking_lot',\n",
    "                            'BusinessParking_valet', 'BikeParking']]\n",
    "df_good = df_attributes[['business_id', 'GoodForMeal_dessert', 'GoodForMeal_latenight', 'GoodForMeal_lunch',\n",
    "                         'GoodForMeal_dinner', 'GoodForMeal_breakfast', 'GoodForMeal_brunch']]\n",
    "df_other = df_attributes[['business_id', 'ByAppointmentOnly', 'BusinessAcceptsCreditCards', 'RestaurantsPriceRange2',\n",
    "                          'GoodForKids', 'WheelchairAccessible', 'Alcohol',\n",
    "                          'HasTV', 'NoiseLevel', 'RestaurantsAttire',\n",
    "                          'RestaurantsGoodForGroups', 'WiFi', 'RestaurantsReservations',\n",
    "                          'RestaurantsTakeOut', 'RestaurantsTableService', 'OutdoorSeating',\n",
    "                          'RestaurantsDelivery', 'Smoking', 'DriveThru',\n",
    "                          'DogsAllowed', 'RestaurantsCounterService']]"
   ]
  },
  {
   "cell_type": "markdown",
   "id": "98ff8659",
   "metadata": {},
   "source": [
    "## Recursive Feature Elimination on Other"
   ]
  },
  {
   "cell_type": "code",
   "execution_count": 17,
   "id": "7930136b",
   "metadata": {},
   "outputs": [],
   "source": [
    "feat_other = pd.merge(df_restaurants, df_other, on = 'business_id', how = 'inner')\n",
    "pd.set_option('display.max_columns', None)\n",
    "\n",
    "# We need to dummify the variables and to determine how, we can use:\n",
    "# feat_other['GoodForKids'].value_counts()\n",
    "\n",
    "# The entire RestaurantsPriceRange2 column is null so we can drop it\n",
    "# We should also drop HasTV because the categories are full_bar and beer_and_wine\n",
    "# There are no 'True' in RestaurantsGoodForGroups\n",
    "# There is only one row that is not null in RestaurantsCounterService\n",
    "feat_other = feat_other.drop(columns = ['RestaurantsPriceRange2', 'HasTV', 'RestaurantsGoodForGroups', 'RestaurantsCounterService', 'RestaurantsAttire', 'RestaurantsReservations'])\n",
    "\n",
    "# GoodForKids\n",
    "\n",
    "# ByAppointmentOnly, BusinessAcceptsCreditCards, WheelchairAccessible, Alcohol, NoiseLevel, RestaurantsTakeOut\n",
    "# RestaurantsTableService, OutdoorSeating, RestaurantsDelivery, Smoking, DogsAllowed\n",
    "feat_other = feat_other.replace({np.NaN : 0, 'False' : 0, 'True' : 1}, regex = True)\n",
    "\n",
    "# DriveThru\n",
    "feat_other['DriveThru'] = feat_other['DriveThru'].replace({np.NaN : 0, 'outdoor' : 1, 'yes' : 1, 'no': 0}, regex = True)"
   ]
  },
  {
   "cell_type": "code",
   "execution_count": 20,
   "id": "060a3135",
   "metadata": {},
   "outputs": [
    {
     "data": {
      "text/plain": [
       "0         3.5\n",
       "1         4.0\n",
       "2         5.0\n",
       "3         4.5\n",
       "4         4.0\n",
       "         ... \n",
       "290444    2.5\n",
       "290445    3.0\n",
       "290446    3.0\n",
       "290447    4.0\n",
       "290448    3.0\n",
       "Name: stars, Length: 290449, dtype: float64"
      ]
     },
     "execution_count": 20,
     "metadata": {},
     "output_type": "execute_result"
    }
   ],
   "source": [
    "feat_other['stars']"
   ]
  },
  {
   "cell_type": "code",
   "execution_count": 32,
   "id": "6c5e2fa5",
   "metadata": {},
   "outputs": [
    {
     "data": {
      "text/plain": [
       "array([0, 1, 2, 3, 4, 5, 6, 7, 8], dtype=int64)"
      ]
     },
     "execution_count": 32,
     "metadata": {},
     "output_type": "execute_result"
    }
   ],
   "source": [
    "from sklearn import preprocessing\n",
    "from sklearn import utils\n",
    "\n",
    "X = feat_other.iloc[:, 4:]\n",
    "y = feat_other['stars']\n",
    "\n",
    "lab = preprocessing.LabelEncoder()\n",
    "y_transformed = lab.fit_transform(y)\n",
    "\n",
    "np.unique(y_transformed)"
   ]
  },
  {
   "cell_type": "code",
   "execution_count": 25,
   "id": "4a7bba23",
   "metadata": {},
   "outputs": [],
   "source": [
    "from sklearn.feature_selection import RFE\n",
    "from sklearn.linear_model import LogisticRegression\n",
    "\n",
    "lr = LogisticRegression(max_iter = 5000)\n",
    "rfe = RFE(lr, n_features_to_select = 1)\n",
    "model1 = rfe.fit(X,y_transformed)"
   ]
  },
  {
   "cell_type": "code",
   "execution_count": 26,
   "id": "69c96191",
   "metadata": {},
   "outputs": [
    {
     "data": {
      "text/html": [
       "<div>\n",
       "<style scoped>\n",
       "    .dataframe tbody tr th:only-of-type {\n",
       "        vertical-align: middle;\n",
       "    }\n",
       "\n",
       "    .dataframe tbody tr th {\n",
       "        vertical-align: top;\n",
       "    }\n",
       "\n",
       "    .dataframe thead th {\n",
       "        text-align: right;\n",
       "    }\n",
       "</style>\n",
       "<table border=\"1\" class=\"dataframe\">\n",
       "  <thead>\n",
       "    <tr style=\"text-align: right;\">\n",
       "      <th></th>\n",
       "      <th>predictor</th>\n",
       "      <th>ranking</th>\n",
       "    </tr>\n",
       "  </thead>\n",
       "  <tbody>\n",
       "    <tr>\n",
       "      <th>13</th>\n",
       "      <td>DogsAllowed</td>\n",
       "      <td>1</td>\n",
       "    </tr>\n",
       "    <tr>\n",
       "      <th>6</th>\n",
       "      <td>WiFi</td>\n",
       "      <td>2</td>\n",
       "    </tr>\n",
       "    <tr>\n",
       "      <th>7</th>\n",
       "      <td>RestaurantsTakeOut</td>\n",
       "      <td>3</td>\n",
       "    </tr>\n",
       "    <tr>\n",
       "      <th>11</th>\n",
       "      <td>Smoking</td>\n",
       "      <td>4</td>\n",
       "    </tr>\n",
       "    <tr>\n",
       "      <th>5</th>\n",
       "      <td>NoiseLevel</td>\n",
       "      <td>5</td>\n",
       "    </tr>\n",
       "    <tr>\n",
       "      <th>10</th>\n",
       "      <td>RestaurantsDelivery</td>\n",
       "      <td>6</td>\n",
       "    </tr>\n",
       "    <tr>\n",
       "      <th>12</th>\n",
       "      <td>DriveThru</td>\n",
       "      <td>7</td>\n",
       "    </tr>\n",
       "    <tr>\n",
       "      <th>3</th>\n",
       "      <td>WheelchairAccessible</td>\n",
       "      <td>8</td>\n",
       "    </tr>\n",
       "    <tr>\n",
       "      <th>1</th>\n",
       "      <td>BusinessAcceptsCreditCards</td>\n",
       "      <td>9</td>\n",
       "    </tr>\n",
       "    <tr>\n",
       "      <th>0</th>\n",
       "      <td>ByAppointmentOnly</td>\n",
       "      <td>10</td>\n",
       "    </tr>\n",
       "    <tr>\n",
       "      <th>9</th>\n",
       "      <td>OutdoorSeating</td>\n",
       "      <td>11</td>\n",
       "    </tr>\n",
       "    <tr>\n",
       "      <th>4</th>\n",
       "      <td>Alcohol</td>\n",
       "      <td>12</td>\n",
       "    </tr>\n",
       "    <tr>\n",
       "      <th>8</th>\n",
       "      <td>RestaurantsTableService</td>\n",
       "      <td>13</td>\n",
       "    </tr>\n",
       "    <tr>\n",
       "      <th>2</th>\n",
       "      <td>GoodForKids</td>\n",
       "      <td>14</td>\n",
       "    </tr>\n",
       "  </tbody>\n",
       "</table>\n",
       "</div>"
      ],
      "text/plain": [
       "                     predictor  ranking\n",
       "13                 DogsAllowed        1\n",
       "6                         WiFi        2\n",
       "7           RestaurantsTakeOut        3\n",
       "11                     Smoking        4\n",
       "5                   NoiseLevel        5\n",
       "10         RestaurantsDelivery        6\n",
       "12                   DriveThru        7\n",
       "3         WheelchairAccessible        8\n",
       "1   BusinessAcceptsCreditCards        9\n",
       "0            ByAppointmentOnly       10\n",
       "9               OutdoorSeating       11\n",
       "4                      Alcohol       12\n",
       "8      RestaurantsTableService       13\n",
       "2                  GoodForKids       14"
      ]
     },
     "execution_count": 26,
     "metadata": {},
     "output_type": "execute_result"
    }
   ],
   "source": [
    "pd.DataFrame(list(zip(X.columns,model1.ranking_)), columns = ['predictor','ranking']).sort_values(by = ['ranking'])"
   ]
  },
  {
   "cell_type": "code",
   "execution_count": null,
   "id": "315545c7",
   "metadata": {},
   "outputs": [],
   "source": []
  }
 ],
 "metadata": {
  "kernelspec": {
   "display_name": "Python 3 (ipykernel)",
   "language": "python",
   "name": "python3"
  },
  "language_info": {
   "codemirror_mode": {
    "name": "ipython",
    "version": 3
   },
   "file_extension": ".py",
   "mimetype": "text/x-python",
   "name": "python",
   "nbconvert_exporter": "python",
   "pygments_lexer": "ipython3",
   "version": "3.9.12"
  }
 },
 "nbformat": 4,
 "nbformat_minor": 5
}
